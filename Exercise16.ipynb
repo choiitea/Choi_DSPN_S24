{
  "cells": [
    {
      "cell_type": "markdown",
      "metadata": {
        "id": "view-in-github",
        "colab_type": "text"
      },
      "source": [
        "<a href=\"https://colab.research.google.com/github/choiitea/Choi_DSPN_S24/blob/main/Exercise16.ipynb\" target=\"_parent\"><img src=\"https://colab.research.google.com/assets/colab-badge.svg\" alt=\"Open In Colab\"/></a>"
      ]
    },
    {
      "cell_type": "markdown",
      "metadata": {
        "id": "614c6a4a"
      },
      "source": [
        "# Exercise 16: Model selection"
      ],
      "id": "614c6a4a"
    },
    {
      "cell_type": "markdown",
      "metadata": {
        "id": "7e861f62"
      },
      "source": [
        "This homework is designed to give you practice implementing model selection techniques, including best subset selection and forward/backward stepwise selection.\n",
        "\n",
        "You won't need to load in any data for this homework, we will be simulating our own."
      ],
      "id": "7e861f62"
    },
    {
      "cell_type": "markdown",
      "metadata": {
        "id": "b065256e"
      },
      "source": [
        "---\n",
        "## 1. Best subset selection (4 points)"
      ],
      "id": "b065256e"
    },
    {
      "cell_type": "markdown",
      "metadata": {
        "id": "bfe412c5"
      },
      "source": [
        "In this question, we will first generate simulated data, and then use it to perform best subset selection.\n",
        "\n",
        "a) Use `rnorm()` to generate a dataset including a predictor $X$ of length $n = 100$ and a noise vector $\\epsilon$ of length $n = 100$. Generate data for a response variable $Y$ of length $n = 100$ according to the model\n",
        "\n",
        "$Y = \\beta_0 + \\beta_1X + \\beta_2X^2 + \\beta_3X^3 + \\epsilon$\n",
        "\n",
        "where $\\beta_0$, $\\beta_1$, $\\beta_2$, and $\\beta_3$ are constants of your choice.\n"
      ],
      "id": "bfe412c5"
    },
    {
      "cell_type": "code",
      "execution_count": 79,
      "metadata": {
        "id": "82a01047",
        "vscode": {
          "languageId": "r"
        },
        "colab": {
          "base_uri": "https://localhost:8080/",
          "height": 286
        },
        "outputId": "86b8c3b7-eac8-48e7-9aad-b5371afc7df5"
      },
      "outputs": [
        {
          "output_type": "display_data",
          "data": {
            "text/html": [
              "<table class=\"dataframe\">\n",
              "<caption>A data.frame: 6 × 2</caption>\n",
              "<thead>\n",
              "\t<tr><th></th><th scope=col>Y</th><th scope=col>X</th></tr>\n",
              "\t<tr><th></th><th scope=col>&lt;dbl&gt;</th><th scope=col>&lt;dbl&gt;</th></tr>\n",
              "</thead>\n",
              "<tbody>\n",
              "\t<tr><th scope=row>1</th><td>-2.156658</td><td>-1.1066080</td></tr>\n",
              "\t<tr><th scope=row>2</th><td>-1.407943</td><td>-0.1120660</td></tr>\n",
              "\t<tr><th scope=row>3</th><td>-4.816910</td><td>-1.7375028</td></tr>\n",
              "\t<tr><th scope=row>4</th><td>-1.137927</td><td> 0.2295856</td></tr>\n",
              "\t<tr><th scope=row>5</th><td> 5.590512</td><td> 1.2597499</td></tr>\n",
              "\t<tr><th scope=row>6</th><td>-1.213036</td><td> 0.4484742</td></tr>\n",
              "</tbody>\n",
              "</table>\n"
            ],
            "text/markdown": "\nA data.frame: 6 × 2\n\n| <!--/--> | Y &lt;dbl&gt; | X &lt;dbl&gt; |\n|---|---|---|\n| 1 | -2.156658 | -1.1066080 |\n| 2 | -1.407943 | -0.1120660 |\n| 3 | -4.816910 | -1.7375028 |\n| 4 | -1.137927 |  0.2295856 |\n| 5 |  5.590512 |  1.2597499 |\n| 6 | -1.213036 |  0.4484742 |\n\n",
            "text/latex": "A data.frame: 6 × 2\n\\begin{tabular}{r|ll}\n  & Y & X\\\\\n  & <dbl> & <dbl>\\\\\n\\hline\n\t1 & -2.156658 & -1.1066080\\\\\n\t2 & -1.407943 & -0.1120660\\\\\n\t3 & -4.816910 & -1.7375028\\\\\n\t4 & -1.137927 &  0.2295856\\\\\n\t5 &  5.590512 &  1.2597499\\\\\n\t6 & -1.213036 &  0.4484742\\\\\n\\end{tabular}\n",
            "text/plain": [
              "  Y         X         \n",
              "1 -2.156658 -1.1066080\n",
              "2 -1.407943 -0.1120660\n",
              "3 -4.816910 -1.7375028\n",
              "4 -1.137927  0.2295856\n",
              "5  5.590512  1.2597499\n",
              "6 -1.213036  0.4484742"
            ]
          },
          "metadata": {}
        }
      ],
      "source": [
        "# WRITE YOUR CODE HERE\n",
        "# random seed 1997\n",
        "set.seed(1997)\n",
        "# parameters for generating data\n",
        "n <- 100\n",
        "random_coef <- runif(4, min = -3, max = 3)\n",
        "#random_coef\n",
        "# -1.6716605569236 0.789223083760589 1.90374576766044 1.54804862150922\n",
        "# simplifying for my convenience\n",
        "beta0 <- -1.67\n",
        "beta1 <- 0.79\n",
        "beta2 <- 1.9\n",
        "beta3 <- 1.55\n",
        "\n",
        "# Generate data\n",
        "X <- rnorm(n)\n",
        "e <- rnorm(n, mean = 0, sd = 0.5)\n",
        "Y <- beta0 + beta1*X + beta2*X^2 + beta3*X^3 + e\n",
        "\n",
        "data <- data.frame(Y = Y, X = X)\n",
        "\n",
        "head(data)"
      ],
      "id": "82a01047"
    },
    {
      "cell_type": "markdown",
      "metadata": {
        "id": "19065c60"
      },
      "source": [
        "b) Use `regsubsets()` to perform best subset selection to determine the best model that contains the predictor variables $X$, $X^2$, . . . , $X^{10}$. Print the model summary."
      ],
      "id": "19065c60"
    },
    {
      "cell_type": "code",
      "execution_count": 80,
      "metadata": {
        "id": "2d0ea51f",
        "vscode": {
          "languageId": "r"
        },
        "colab": {
          "base_uri": "https://localhost:8080/",
          "height": 464
        },
        "outputId": "e19e89a9-98d3-45d4-bb64-5fc2c0f43083"
      },
      "outputs": [
        {
          "output_type": "display_data",
          "data": {
            "text/plain": [
              "Subset selection object\n",
              "Call: regsubsets.formula(Y ~ ., data)\n",
              "10 Variables  (and intercept)\n",
              "    Forced in Forced out\n",
              "X       FALSE      FALSE\n",
              "X2      FALSE      FALSE\n",
              "X3      FALSE      FALSE\n",
              "X4      FALSE      FALSE\n",
              "X5      FALSE      FALSE\n",
              "X6      FALSE      FALSE\n",
              "X7      FALSE      FALSE\n",
              "X8      FALSE      FALSE\n",
              "X9      FALSE      FALSE\n",
              "X10     FALSE      FALSE\n",
              "1 subsets of each size up to 8\n",
              "Selection Algorithm: exhaustive\n",
              "         X   X2  X3  X4  X5  X6  X7  X8  X9  X10\n",
              "1  ( 1 ) \" \" \" \" \"*\" \" \" \" \" \" \" \" \" \" \" \" \" \" \"\n",
              "2  ( 1 ) \" \" \"*\" \"*\" \" \" \" \" \" \" \" \" \" \" \" \" \" \"\n",
              "3  ( 1 ) \"*\" \"*\" \"*\" \" \" \" \" \" \" \" \" \" \" \" \" \" \"\n",
              "4  ( 1 ) \"*\" \"*\" \"*\" \" \" \"*\" \" \" \" \" \" \" \" \" \" \"\n",
              "5  ( 1 ) \"*\" \"*\" \"*\" \"*\" \" \" \"*\" \" \" \" \" \" \" \" \"\n",
              "6  ( 1 ) \"*\" \"*\" \"*\" \" \" \"*\" \" \" \"*\" \" \" \"*\" \" \"\n",
              "7  ( 1 ) \"*\" \"*\" \"*\" \"*\" \"*\" \" \" \"*\" \" \" \"*\" \" \"\n",
              "8  ( 1 ) \"*\" \"*\" \"*\" \"*\" \"*\" \"*\" \" \" \"*\" \" \" \"*\""
            ]
          },
          "metadata": {}
        }
      ],
      "source": [
        "# WRITE YOUR CODE HERE\n",
        "#install.packages(\"leaps\")\n",
        "library(leaps)\n",
        "#?regsubsets\n",
        "\n",
        "# I guess I need to create the predictor variables X^2 to X^10\n",
        "data$X2 <- data$X^2\n",
        "data$X3 <- data$X^3\n",
        "data$X4 <- data$X^4\n",
        "data$X5 <- data$X^5\n",
        "data$X6 <- data$X^6\n",
        "data$X7 <- data$X^7\n",
        "data$X8 <- data$X^8\n",
        "data$X9 <- data$X^9\n",
        "data$X10 <- data$X^10\n",
        "\n",
        "regfit.full = regsubsets(Y~., data) #use every variable\n",
        "summary(regfit.full)"
      ],
      "id": "2d0ea51f"
    },
    {
      "cell_type": "code",
      "execution_count": null,
      "metadata": {
        "id": "e584b852",
        "vscode": {
          "languageId": "r"
        }
      },
      "outputs": [],
      "source": [
        "# Note: if your model summary doesn't show up when viewing your notebook on github, copy and paste the output below.\n",
        "# Otherwise you can either delete this cell or leave it blank.\n",
        "\n",
        "```\n",
        "# paste here\n",
        "\n",
        "```"
      ],
      "id": "e584b852"
    },
    {
      "cell_type": "markdown",
      "metadata": {
        "id": "3528231b"
      },
      "source": [
        "c) Plot the Mallows' Cp, Bayesian Information Criteria (BIC) and the adjusted coefficient of determination, $R^2$, for each model tested. Which is the best model? Report the coefficients of the best model."
      ],
      "id": "3528231b"
    },
    {
      "cell_type": "code",
      "execution_count": 81,
      "metadata": {
        "id": "6a817913",
        "vscode": {
          "languageId": "r"
        },
        "colab": {
          "base_uri": "https://localhost:8080/",
          "height": 437
        },
        "outputId": "f8e020fc-4e50-4e3d-e067-9389ffc12fe1"
      },
      "outputs": [
        {
          "output_type": "display_data",
          "data": {
            "text/plain": [
              "plot without title"
            ],
            "image/png": "[encoded data removed]"
          },
          "metadata": {
            "image/png": {
              "width": 420,
              "height": 420
            }
          }
        }
      ],
      "source": [
        "# WRITE YOUR CODE HERE\n",
        "library(tidyverse)\n",
        "reg.summary = summary(regfit.full)\n",
        "numvar = 1:length(reg.summary$rss)# Make a vector that lists the number of variables in sequence, from 1 to 19.\n",
        "allfalse = rep(FALSE,length(reg.summary$rss))# Starting point for an indicator that marks the best model choice for each metric.\n",
        "\n",
        "# mallow's cp\n",
        "cp.df <- data.frame(numvar = numvar, cp <- reg.summary$cp, mincp <- allfalse)\n",
        "cp.df$mincp[which.min(reg.summary$cp)] <- TRUE\n",
        "ggplot(cp.df,aes(x=numvar,y=cp,shape=mincp,col=mincp)) +\n",
        "    geom_point(size=3) + theme_light() +\n",
        "    labs(x = \"Number of Variables\", y = \"Mallow's CP\", color=\"Maximum CP\", shape=\"Maximum CP\")"
      ],
      "id": "6a817913"
    },
    {
      "cell_type": "code",
      "source": [
        "# #bic\n",
        "bic.df <- data.frame(numvar = numvar,bic <- reg.summary$bic, minbic <- allfalse)\n",
        "bic.df$minbic[which.min(reg.summary$bic)] <- TRUE\n",
        "ggplot(bic.df,aes(x=numvar,y=bic,shape=minbic,col=minbic)) +\n",
        "    geom_point(size=3) + theme_light() +\n",
        "    labs(x = \"Number of Variables\", y = \"BIC\", color=\"Minimum BIC\", shape=\"Minimum BIC\")"
      ],
      "metadata": {
        "colab": {
          "base_uri": "https://localhost:8080/",
          "height": 437
        },
        "id": "xeSPT4ghmwP4",
        "outputId": "64e0191d-046a-4d02-8920-f372733fa8cd"
      },
      "id": "xeSPT4ghmwP4",
      "execution_count": 82,
      "outputs": [
        {
          "output_type": "display_data",
          "data": {
            "text/plain": [
              "plot without title"
            ],
            "image/png": "[encoded data removed]"
          },
          "metadata": {
            "image/png": {
              "width": 420,
              "height": 420
            }
          }
        }
      ]
    },
    {
      "cell_type": "code",
      "source": [
        "# adjusted R2\n",
        "adjr2.df <- data.frame(numvar = numvar, adjr2 <- reg.summary$adjr2, maxadjr2 <- allfalse)\n",
        "adjr2.df$maxadjr2[which.max(reg.summary$adjr2)] <- TRUE\n",
        "ggplot(adjr2.df,aes(x=numvar,y=adjr2,shape=maxadjr2,col=maxadjr2)) +\n",
        "    geom_point(size=3) + theme_light() +\n",
        "    labs(x = \"Number of Variables\", y = 'Adj'~R^2, color='Maximum Adj'~R^2, shape='Maximum Adj'~R^2)"
      ],
      "metadata": {
        "colab": {
          "base_uri": "https://localhost:8080/",
          "height": 437
        },
        "id": "iAyTYt15m0NL",
        "outputId": "465d1894-88f1-4596-f82d-24beaf06f7c1"
      },
      "id": "iAyTYt15m0NL",
      "execution_count": 83,
      "outputs": [
        {
          "output_type": "display_data",
          "data": {
            "text/plain": [
              "plot without title"
            ],
            "image/png": "[encoded data removed]"
          },
          "metadata": {
            "image/png": {
              "width": 420,
              "height": 420
            }
          }
        }
      ]
    },
    {
      "cell_type": "code",
      "source": [
        "# identify which model has the best bias-adjusted fit\n",
        "which.min(reg.summary$cp)\n",
        "which.min(reg.summary$bic)\n",
        "which.max(reg.summary$adjr2)\n",
        "\n",
        "# let's pull out the coefficients\n",
        "coef(regfit.full, 3)"
      ],
      "metadata": {
        "colab": {
          "base_uri": "https://localhost:8080/",
          "height": 86
        },
        "id": "xl-7nOWqm19A",
        "outputId": "b62e61e7-b334-459b-c5d5-16f14baea6d3"
      },
      "id": "xl-7nOWqm19A",
      "execution_count": 84,
      "outputs": [
        {
          "output_type": "display_data",
          "data": {
            "text/html": [
              "3"
            ],
            "text/markdown": "3",
            "text/latex": "3",
            "text/plain": [
              "[1] 3"
            ]
          },
          "metadata": {}
        },
        {
          "output_type": "display_data",
          "data": {
            "text/html": [
              "3"
            ],
            "text/markdown": "3",
            "text/latex": "3",
            "text/plain": [
              "[1] 3"
            ]
          },
          "metadata": {}
        },
        {
          "output_type": "display_data",
          "data": {
            "text/html": [
              "4"
            ],
            "text/markdown": "4",
            "text/latex": "4",
            "text/plain": [
              "[1] 4"
            ]
          },
          "metadata": {}
        },
        {
          "output_type": "display_data",
          "data": {
            "text/html": [
              "<style>\n",
              ".dl-inline {width: auto; margin:0; padding: 0}\n",
              ".dl-inline>dt, .dl-inline>dd {float: none; width: auto; display: inline-block}\n",
              ".dl-inline>dt::after {content: \":\\0020\"; padding-right: .5ex}\n",
              ".dl-inline>dt:not(:first-of-type) {padding-left: .5ex}\n",
              "</style><dl class=dl-inline><dt>(Intercept)</dt><dd>-1.7786055643429</dd><dt>X</dt><dd>0.765488944992594</dd><dt>X2</dt><dd>1.99154367427184</dd><dt>X3</dt><dd>1.56719996937048</dd></dl>\n"
            ],
            "text/markdown": "(Intercept)\n:   -1.7786055643429X\n:   0.765488944992594X2\n:   1.99154367427184X3\n:   1.56719996937048\n\n",
            "text/latex": "\\begin{description*}\n\\item[(Intercept)] -1.7786055643429\n\\item[X] 0.765488944992594\n\\item[X2] 1.99154367427184\n\\item[X3] 1.56719996937048\n\\end{description*}\n",
            "text/plain": [
              "(Intercept)           X          X2          X3 \n",
              " -1.7786056   0.7654889   1.9915437   1.5672000 "
            ]
          },
          "metadata": {}
        }
      ]
    },
    {
      "cell_type": "markdown",
      "metadata": {
        "id": "e7f16d76"
      },
      "source": [
        "> *Write your response here*\n",
        "> In looking at model selected based on Mallow's Cp, BIC, and adjusted $R^2$, we first see that there is disagreement between adjusted $R^2$ and Cp and BIC. While Cp and BIC point to the model with 3 parameters, adjusted $R^2$ prefers the model with 4 parameters. It's important to note here that we do not only choose the model with smaller dimensions just because sparsity is always preferred. It should be noted that adjusted $R^2$ is choosing the model with 4 parameters because it is trying to maximize the variance explained by the model. We choose the model with lower complexity here because maximially explaining the variance within the data is not necessarily the primary goal (assuming that the primary goal is generalizable inference).\\\n",
        "The betas I chose in this 'true' model I created were: beta0 <- -1.67, beta1 <- 0.79, beta2 <- 1.9, beta3 <- 1.55. The best model chosen through bias-adjusted fit comparison produces coefficients that are very close to the 'true' values."
      ],
      "id": "e7f16d76"
    },
    {
      "cell_type": "markdown",
      "metadata": {
        "id": "19d388b0"
      },
      "source": [
        "---\n",
        "## 2. Forward and backwards stepwise selection (3 points)"
      ],
      "id": "19d388b0"
    },
    {
      "cell_type": "markdown",
      "metadata": {
        "id": "620dc14c"
      },
      "source": [
        "Using the same simulated data from question 1, use forward stepwise selection, and backwards stepwise selections to determine the best model. Again, for both model selection methods, plot the Mallows' Cp, Bayesian Information Criteria (BIC) and the adjusted coefficient of determination, $R^2$, for each model tested. Report the coefficients of the best model."
      ],
      "id": "620dc14c"
    },
    {
      "cell_type": "markdown",
      "metadata": {
        "id": "d734954e"
      },
      "source": [
        "a) Forward stepwise selection:"
      ],
      "id": "d734954e"
    },
    {
      "cell_type": "code",
      "execution_count": 85,
      "metadata": {
        "id": "8018ba62",
        "vscode": {
          "languageId": "r"
        },
        "colab": {
          "base_uri": "https://localhost:8080/",
          "height": 86
        },
        "outputId": "7030db4a-60f9-4e85-a156-97cf867d39c8"
      },
      "outputs": [
        {
          "output_type": "display_data",
          "data": {
            "text/html": [
              "3"
            ],
            "text/markdown": "3",
            "text/latex": "3",
            "text/plain": [
              "[1] 3"
            ]
          },
          "metadata": {}
        },
        {
          "output_type": "display_data",
          "data": {
            "text/html": [
              "3"
            ],
            "text/markdown": "3",
            "text/latex": "3",
            "text/plain": [
              "[1] 3"
            ]
          },
          "metadata": {}
        },
        {
          "output_type": "display_data",
          "data": {
            "text/html": [
              "4"
            ],
            "text/markdown": "4",
            "text/latex": "4",
            "text/plain": [
              "[1] 4"
            ]
          },
          "metadata": {}
        },
        {
          "output_type": "display_data",
          "data": {
            "text/html": [
              "<style>\n",
              ".dl-inline {width: auto; margin:0; padding: 0}\n",
              ".dl-inline>dt, .dl-inline>dd {float: none; width: auto; display: inline-block}\n",
              ".dl-inline>dt::after {content: \":\\0020\"; padding-right: .5ex}\n",
              ".dl-inline>dt:not(:first-of-type) {padding-left: .5ex}\n",
              "</style><dl class=dl-inline><dt>(Intercept)</dt><dd>-1.7786055643429</dd><dt>X</dt><dd>0.765488944992593</dd><dt>X2</dt><dd>1.99154367427184</dd><dt>X3</dt><dd>1.56719996937048</dd></dl>\n"
            ],
            "text/markdown": "(Intercept)\n:   -1.7786055643429X\n:   0.765488944992593X2\n:   1.99154367427184X3\n:   1.56719996937048\n\n",
            "text/latex": "\\begin{description*}\n\\item[(Intercept)] -1.7786055643429\n\\item[X] 0.765488944992593\n\\item[X2] 1.99154367427184\n\\item[X3] 1.56719996937048\n\\end{description*}\n",
            "text/plain": [
              "(Intercept)           X          X2          X3 \n",
              " -1.7786056   0.7654889   1.9915437   1.5672000 "
            ]
          },
          "metadata": {}
        }
      ],
      "source": [
        "# WRITE YOUR CODE HERE\n",
        "regfit.fwd <- regsubsets(Y ~., data = data, method = \"forward\")\n",
        "#summary(regfit.fwd)\n",
        "reg.fwd.summary = summary(regfit.fwd)\n",
        "which.min(reg.fwd.summary$cp)\n",
        "which.min(reg.fwd.summary$bic)\n",
        "which.max(reg.fwd.summary$adjr2)\n",
        "\n",
        "coef(regfit.fwd, 3)"
      ],
      "id": "8018ba62"
    },
    {
      "cell_type": "code",
      "execution_count": null,
      "metadata": {
        "id": "861cedcd",
        "vscode": {
          "languageId": "r"
        }
      },
      "outputs": [],
      "source": [
        "# Note: if your model summary doesn't show up when viewing your notebook on github, copy and paste the output below.\n",
        "# Otherwise you can either delete this cell or leave it blank.\n",
        "\n",
        "```\n",
        "# paste here\n",
        "\n",
        "```"
      ],
      "id": "861cedcd"
    },
    {
      "cell_type": "markdown",
      "metadata": {
        "id": "955e381d"
      },
      "source": [
        "b) Backwards stepwise selection:"
      ],
      "id": "955e381d"
    },
    {
      "cell_type": "code",
      "execution_count": 86,
      "metadata": {
        "id": "c9a50756",
        "vscode": {
          "languageId": "r"
        },
        "colab": {
          "base_uri": "https://localhost:8080/",
          "height": 86
        },
        "outputId": "88227aae-de19-42da-a141-16f8fc49985b"
      },
      "outputs": [
        {
          "output_type": "display_data",
          "data": {
            "text/html": [
              "6"
            ],
            "text/markdown": "6",
            "text/latex": "6",
            "text/plain": [
              "[1] 6"
            ]
          },
          "metadata": {}
        },
        {
          "output_type": "display_data",
          "data": {
            "text/html": [
              "6"
            ],
            "text/markdown": "6",
            "text/latex": "6",
            "text/plain": [
              "[1] 6"
            ]
          },
          "metadata": {}
        },
        {
          "output_type": "display_data",
          "data": {
            "text/html": [
              "8"
            ],
            "text/markdown": "8",
            "text/latex": "8",
            "text/plain": [
              "[1] 8"
            ]
          },
          "metadata": {}
        },
        {
          "output_type": "display_data",
          "data": {
            "text/html": [
              "<style>\n",
              ".dl-inline {width: auto; margin:0; padding: 0}\n",
              ".dl-inline>dt, .dl-inline>dd {float: none; width: auto; display: inline-block}\n",
              ".dl-inline>dt::after {content: \":\\0020\"; padding-right: .5ex}\n",
              ".dl-inline>dt:not(:first-of-type) {padding-left: .5ex}\n",
              "</style><dl class=dl-inline><dt>(Intercept)</dt><dd>-1.79456846310476</dd><dt>X</dt><dd>1.5061126431511</dd><dt>X2</dt><dd>1.97615390578811</dd><dt>X5</dt><dd>0.907296456592658</dd><dt>X7</dt><dd>-0.186214665706477</dd><dt>X9</dt><dd>0.0119835636003406</dd><dt>X10</dt><dd>0.000203221769327799</dd></dl>\n"
            ],
            "text/markdown": "(Intercept)\n:   -1.79456846310476X\n:   1.5061126431511X2\n:   1.97615390578811X5\n:   0.907296456592658X7\n:   -0.186214665706477X9\n:   0.0119835636003406X10\n:   0.000203221769327799\n\n",
            "text/latex": "\\begin{description*}\n\\item[(Intercept)] -1.79456846310476\n\\item[X] 1.5061126431511\n\\item[X2] 1.97615390578811\n\\item[X5] 0.907296456592658\n\\item[X7] -0.186214665706477\n\\item[X9] 0.0119835636003406\n\\item[X10] 0.000203221769327799\n\\end{description*}\n",
            "text/plain": [
              "  (Intercept)             X            X2            X5            X7 \n",
              "-1.7945684631  1.5061126432  1.9761539058  0.9072964566 -0.1862146657 \n",
              "           X9           X10 \n",
              " 0.0119835636  0.0002032218 "
            ]
          },
          "metadata": {}
        }
      ],
      "source": [
        "# WRITE YOUR CODE HERE\n",
        "regfit.bwd <- regsubsets(Y ~., data = data, method = \"backward\")\n",
        "#summary(regfit.bwd)\n",
        "reg.bwd.summary = summary(regfit.bwd)\n",
        "which.min(reg.bwd.summary$cp)\n",
        "which.min(reg.bwd.summary$bic)\n",
        "which.max(reg.bwd.summary$adjr2)\n",
        "\n",
        "coef(regfit.bwd, 6)"
      ],
      "id": "c9a50756"
    },
    {
      "cell_type": "code",
      "execution_count": null,
      "metadata": {
        "id": "30746619",
        "vscode": {
          "languageId": "r"
        }
      },
      "outputs": [],
      "source": [
        "# Note: if your model summary doesn't show up when viewing your notebook on github, copy and paste the output below.\n",
        "# Otherwise you can either delete this cell or leave it blank.\n",
        "\n",
        "```\n",
        "# paste here\n",
        "\n",
        "```"
      ],
      "id": "30746619"
    },
    {
      "cell_type": "markdown",
      "metadata": {
        "id": "25dbc027"
      },
      "source": [
        "c) Compare your results from parts a and b with those of question 1."
      ],
      "id": "25dbc027"
    },
    {
      "cell_type": "markdown",
      "metadata": {
        "id": "34ac850e"
      },
      "source": [
        "> Forward stepwise selection produced the same results as those of question 1, but backward stepwise selection chose the model with 6 parameters. This is due to how the predictors are created - remember that X2 is $x^2$, X3 is $x^3$ and so on. This means that the predictor variables have high collinearity. In a backward stepwise selection this means that the algorithm stops removing terms earlier, resulting in a model with more predictors compared to forward stepwise or best subset selection.\n",
        ">"
      ],
      "id": "34ac850e"
    },
    {
      "cell_type": "markdown",
      "metadata": {
        "id": "630f4909"
      },
      "source": [
        "---\n",
        "## 3. Training and test error (3 points)"
      ],
      "id": "630f4909"
    },
    {
      "cell_type": "markdown",
      "metadata": {
        "id": "cdea3f49"
      },
      "source": [
        "This question will explore the relationship between training and test error and the number of features included in a model. We will again use a simulated dataset.\n",
        "\n",
        "a) Simulate dataset with features $p = 20$ and observations $n = 1,000$. Generate data for a response variable $Y$ according to the model\n",
        "\n",
        "$Y = X\\beta + \\epsilon$\n",
        "\n",
        "where $\\beta$ is random with some elements that are exactly zero.\n",
        "\n",
        "Split your simulated dataset into a training set containing $n=100$ observations and a test set containing $n=900$ observations."
      ],
      "id": "cdea3f49"
    },
    {
      "cell_type": "code",
      "execution_count": 97,
      "metadata": {
        "id": "3f113879",
        "vscode": {
          "languageId": "r"
        },
        "colab": {
          "base_uri": "https://localhost:8080/",
          "height": 324
        },
        "outputId": "3e934070-ca43-4c03-9931-3708e4f57e91"
      },
      "outputs": [
        {
          "output_type": "display_data",
          "data": {
            "text/html": [
              "<style>\n",
              ".list-inline {list-style: none; margin:0; padding: 0}\n",
              ".list-inline>li {display: inline-block}\n",
              ".list-inline>li:not(:last-child)::after {content: \"\\00b7\"; padding: 0 .5ex}\n",
              "</style>\n",
              "<ol class=list-inline><li>-1.1144403712824</li><li>0.52614872250706</li><li>0</li><li>1.03203241433948</li><li>-1.46307313907892</li><li>0.51514502428472</li><li>0</li><li>0</li><li>0</li><li>0</li><li>0</li><li>-0.527756507508457</li><li>0</li><li>-1.89949801936746</li><li>0</li><li>-0.712022013962269</li><li>0</li><li>0</li><li>-1.55381905566901</li><li>-0.679967186413705</li></ol>\n"
            ],
            "text/markdown": "1. -1.1144403712824\n2. 0.52614872250706\n3. 0\n4. 1.03203241433948\n5. -1.46307313907892\n6. 0.51514502428472\n7. 0\n8. 0\n9. 0\n10. 0\n11. 0\n12. -0.527756507508457\n13. 0\n14. -1.89949801936746\n15. 0\n16. -0.712022013962269\n17. 0\n18. 0\n19. -1.55381905566901\n20. -0.679967186413705\n\n\n",
            "text/latex": "\\begin{enumerate*}\n\\item -1.1144403712824\n\\item 0.52614872250706\n\\item 0\n\\item 1.03203241433948\n\\item -1.46307313907892\n\\item 0.51514502428472\n\\item 0\n\\item 0\n\\item 0\n\\item 0\n\\item 0\n\\item -0.527756507508457\n\\item 0\n\\item -1.89949801936746\n\\item 0\n\\item -0.712022013962269\n\\item 0\n\\item 0\n\\item -1.55381905566901\n\\item -0.679967186413705\n\\end{enumerate*}\n",
            "text/plain": [
              " [1] -1.1144404  0.5261487  0.0000000  1.0320324 -1.4630731  0.5151450\n",
              " [7]  0.0000000  0.0000000  0.0000000  0.0000000  0.0000000 -0.5277565\n",
              "[13]  0.0000000 -1.8994980  0.0000000 -0.7120220  0.0000000  0.0000000\n",
              "[19] -1.5538191 -0.6799672"
            ]
          },
          "metadata": {}
        },
        {
          "output_type": "display_data",
          "data": {
            "text/html": [
              "<table class=\"dataframe\">\n",
              "<caption>A data.frame: 6 × 21</caption>\n",
              "<thead>\n",
              "\t<tr><th></th><th scope=col>x1</th><th scope=col>x2</th><th scope=col>x3</th><th scope=col>x4</th><th scope=col>x5</th><th scope=col>x6</th><th scope=col>x7</th><th scope=col>x8</th><th scope=col>x9</th><th scope=col>x10</th><th scope=col>⋯</th><th scope=col>x12</th><th scope=col>x13</th><th scope=col>x14</th><th scope=col>x15</th><th scope=col>x16</th><th scope=col>x17</th><th scope=col>x18</th><th scope=col>x19</th><th scope=col>x20</th><th scope=col>y</th></tr>\n",
              "\t<tr><th></th><th scope=col>&lt;dbl&gt;</th><th scope=col>&lt;dbl&gt;</th><th scope=col>&lt;dbl&gt;</th><th scope=col>&lt;dbl&gt;</th><th scope=col>&lt;dbl&gt;</th><th scope=col>&lt;dbl&gt;</th><th scope=col>&lt;dbl&gt;</th><th scope=col>&lt;dbl&gt;</th><th scope=col>&lt;dbl&gt;</th><th scope=col>&lt;dbl&gt;</th><th scope=col>⋯</th><th scope=col>&lt;dbl&gt;</th><th scope=col>&lt;dbl&gt;</th><th scope=col>&lt;dbl&gt;</th><th scope=col>&lt;dbl&gt;</th><th scope=col>&lt;dbl&gt;</th><th scope=col>&lt;dbl&gt;</th><th scope=col>&lt;dbl&gt;</th><th scope=col>&lt;dbl&gt;</th><th scope=col>&lt;dbl&gt;</th><th scope=col>&lt;dbl&gt;</th></tr>\n",
              "</thead>\n",
              "<tbody>\n",
              "\t<tr><th scope=row>1</th><td> 1.6121462</td><td>-0.06232354</td><td>-0.8529892</td><td>-0.6289533</td><td>-1.25375539</td><td> 0.2784459</td><td>-0.85727115</td><td>-1.0380393</td><td>-0.07431788</td><td> 1.1696039</td><td>⋯</td><td>-0.284183231</td><td>-0.04692446</td><td> 0.75231624</td><td>-0.2388338</td><td> 0.5859516</td><td>-0.5788594</td><td> 0.3542662</td><td>-0.1278698</td><td> 0.12284860</td><td>-2.3572036</td></tr>\n",
              "\t<tr><th scope=row>2</th><td>-0.5912932</td><td>-0.85956918</td><td> 0.4191234</td><td>-0.4400123</td><td>-1.10531031</td><td>-0.6212755</td><td>-1.04795561</td><td> 0.5394848</td><td> 0.31067039</td><td> 0.3045565</td><td>⋯</td><td> 0.005294635</td><td>-0.79788145</td><td>-0.62964470</td><td> 0.8261991</td><td>-1.1866012</td><td> 2.7034960</td><td>-0.1840551</td><td> 0.4347243</td><td>-0.99645577</td><td> 3.2827437</td></tr>\n",
              "\t<tr><th scope=row>3</th><td>-0.7221665</td><td> 0.77325349</td><td> 0.6327792</td><td> 0.3279123</td><td> 0.58771375</td><td> 0.9466239</td><td> 1.35191122</td><td>-0.8663276</td><td> 0.91656613</td><td> 1.8614002</td><td>⋯</td><td> 1.585804018</td><td> 0.46803560</td><td>-1.43875859</td><td>-0.9038115</td><td> 2.3467646</td><td>-0.8134583</td><td>-0.9581906</td><td> 1.3986076</td><td>-0.08577181</td><td>-0.1969125</td></tr>\n",
              "\t<tr><th scope=row>4</th><td>-2.3762106</td><td>-0.73012714</td><td> 1.2426104</td><td>-0.9584096</td><td> 0.08107354</td><td> 0.7792539</td><td>-0.64568154</td><td>-0.4262454</td><td> 1.11165865</td><td>-0.8757133</td><td>⋯</td><td> 0.594952882</td><td>-0.34141192</td><td> 1.17840045</td><td> 0.6768907</td><td> 1.8649899</td><td>-0.7013750</td><td>-1.8685490</td><td>-0.7044939</td><td>-0.12502707</td><td>-1.0820421</td></tr>\n",
              "\t<tr><th scope=row>5</th><td>-0.6461708</td><td>-1.19135815</td><td>-0.7292524</td><td> 0.3907425</td><td> 0.45241382</td><td>-2.1570203</td><td>-0.46927108</td><td>-0.7344011</td><td>-1.19135498</td><td> 0.5722186</td><td>⋯</td><td> 1.240175029</td><td>-1.78038509</td><td> 0.70213007</td><td> 0.2696388</td><td> 0.1367579</td><td> 1.0203101</td><td> 1.1488594</td><td> 0.1038445</td><td> 0.51248933</td><td>-4.4028769</td></tr>\n",
              "\t<tr><th scope=row>6</th><td>-0.7254025</td><td>-0.01360758</td><td>-1.1735859</td><td> 0.9665259</td><td> 0.77204310</td><td>-1.6154565</td><td> 0.09176664</td><td> 1.3567897</td><td>-0.42705313</td><td> 0.0141786</td><td>⋯</td><td>-0.717254831</td><td> 0.21792386</td><td> 0.01006601</td><td> 1.1869282</td><td> 1.2060878</td><td>-0.7245896</td><td>-1.5859460</td><td>-0.2024745</td><td>-0.90069934</td><td> 1.0594188</td></tr>\n",
              "</tbody>\n",
              "</table>\n"
            ],
            "text/markdown": "\nA data.frame: 6 × 21\n\n| <!--/--> | x1 &lt;dbl&gt; | x2 &lt;dbl&gt; | x3 &lt;dbl&gt; | x4 &lt;dbl&gt; | x5 &lt;dbl&gt; | x6 &lt;dbl&gt; | x7 &lt;dbl&gt; | x8 &lt;dbl&gt; | x9 &lt;dbl&gt; | x10 &lt;dbl&gt; | ⋯ ⋯ | x12 &lt;dbl&gt; | x13 &lt;dbl&gt; | x14 &lt;dbl&gt; | x15 &lt;dbl&gt; | x16 &lt;dbl&gt; | x17 &lt;dbl&gt; | x18 &lt;dbl&gt; | x19 &lt;dbl&gt; | x20 &lt;dbl&gt; | y &lt;dbl&gt; |\n|---|---|---|---|---|---|---|---|---|---|---|---|---|---|---|---|---|---|---|---|---|---|\n| 1 |  1.6121462 | -0.06232354 | -0.8529892 | -0.6289533 | -1.25375539 |  0.2784459 | -0.85727115 | -1.0380393 | -0.07431788 |  1.1696039 | ⋯ | -0.284183231 | -0.04692446 |  0.75231624 | -0.2388338 |  0.5859516 | -0.5788594 |  0.3542662 | -0.1278698 |  0.12284860 | -2.3572036 |\n| 2 | -0.5912932 | -0.85956918 |  0.4191234 | -0.4400123 | -1.10531031 | -0.6212755 | -1.04795561 |  0.5394848 |  0.31067039 |  0.3045565 | ⋯ |  0.005294635 | -0.79788145 | -0.62964470 |  0.8261991 | -1.1866012 |  2.7034960 | -0.1840551 |  0.4347243 | -0.99645577 |  3.2827437 |\n| 3 | -0.7221665 |  0.77325349 |  0.6327792 |  0.3279123 |  0.58771375 |  0.9466239 |  1.35191122 | -0.8663276 |  0.91656613 |  1.8614002 | ⋯ |  1.585804018 |  0.46803560 | -1.43875859 | -0.9038115 |  2.3467646 | -0.8134583 | -0.9581906 |  1.3986076 | -0.08577181 | -0.1969125 |\n| 4 | -2.3762106 | -0.73012714 |  1.2426104 | -0.9584096 |  0.08107354 |  0.7792539 | -0.64568154 | -0.4262454 |  1.11165865 | -0.8757133 | ⋯ |  0.594952882 | -0.34141192 |  1.17840045 |  0.6768907 |  1.8649899 | -0.7013750 | -1.8685490 | -0.7044939 | -0.12502707 | -1.0820421 |\n| 5 | -0.6461708 | -1.19135815 | -0.7292524 |  0.3907425 |  0.45241382 | -2.1570203 | -0.46927108 | -0.7344011 | -1.19135498 |  0.5722186 | ⋯ |  1.240175029 | -1.78038509 |  0.70213007 |  0.2696388 |  0.1367579 |  1.0203101 |  1.1488594 |  0.1038445 |  0.51248933 | -4.4028769 |\n| 6 | -0.7254025 | -0.01360758 | -1.1735859 |  0.9665259 |  0.77204310 | -1.6154565 |  0.09176664 |  1.3567897 | -0.42705313 |  0.0141786 | ⋯ | -0.717254831 |  0.21792386 |  0.01006601 |  1.1869282 |  1.2060878 | -0.7245896 | -1.5859460 | -0.2024745 | -0.90069934 |  1.0594188 |\n\n",
            "text/latex": "A data.frame: 6 × 21\n\\begin{tabular}{r|lllllllllllllllllllll}\n  & x1 & x2 & x3 & x4 & x5 & x6 & x7 & x8 & x9 & x10 & ⋯ & x12 & x13 & x14 & x15 & x16 & x17 & x18 & x19 & x20 & y\\\\\n  & <dbl> & <dbl> & <dbl> & <dbl> & <dbl> & <dbl> & <dbl> & <dbl> & <dbl> & <dbl> & ⋯ & <dbl> & <dbl> & <dbl> & <dbl> & <dbl> & <dbl> & <dbl> & <dbl> & <dbl> & <dbl>\\\\\n\\hline\n\t1 &  1.6121462 & -0.06232354 & -0.8529892 & -0.6289533 & -1.25375539 &  0.2784459 & -0.85727115 & -1.0380393 & -0.07431788 &  1.1696039 & ⋯ & -0.284183231 & -0.04692446 &  0.75231624 & -0.2388338 &  0.5859516 & -0.5788594 &  0.3542662 & -0.1278698 &  0.12284860 & -2.3572036\\\\\n\t2 & -0.5912932 & -0.85956918 &  0.4191234 & -0.4400123 & -1.10531031 & -0.6212755 & -1.04795561 &  0.5394848 &  0.31067039 &  0.3045565 & ⋯ &  0.005294635 & -0.79788145 & -0.62964470 &  0.8261991 & -1.1866012 &  2.7034960 & -0.1840551 &  0.4347243 & -0.99645577 &  3.2827437\\\\\n\t3 & -0.7221665 &  0.77325349 &  0.6327792 &  0.3279123 &  0.58771375 &  0.9466239 &  1.35191122 & -0.8663276 &  0.91656613 &  1.8614002 & ⋯ &  1.585804018 &  0.46803560 & -1.43875859 & -0.9038115 &  2.3467646 & -0.8134583 & -0.9581906 &  1.3986076 & -0.08577181 & -0.1969125\\\\\n\t4 & -2.3762106 & -0.73012714 &  1.2426104 & -0.9584096 &  0.08107354 &  0.7792539 & -0.64568154 & -0.4262454 &  1.11165865 & -0.8757133 & ⋯ &  0.594952882 & -0.34141192 &  1.17840045 &  0.6768907 &  1.8649899 & -0.7013750 & -1.8685490 & -0.7044939 & -0.12502707 & -1.0820421\\\\\n\t5 & -0.6461708 & -1.19135815 & -0.7292524 &  0.3907425 &  0.45241382 & -2.1570203 & -0.46927108 & -0.7344011 & -1.19135498 &  0.5722186 & ⋯ &  1.240175029 & -1.78038509 &  0.70213007 &  0.2696388 &  0.1367579 &  1.0203101 &  1.1488594 &  0.1038445 &  0.51248933 & -4.4028769\\\\\n\t6 & -0.7254025 & -0.01360758 & -1.1735859 &  0.9665259 &  0.77204310 & -1.6154565 &  0.09176664 &  1.3567897 & -0.42705313 &  0.0141786 & ⋯ & -0.717254831 &  0.21792386 &  0.01006601 &  1.1869282 &  1.2060878 & -0.7245896 & -1.5859460 & -0.2024745 & -0.90069934 &  1.0594188\\\\\n\\end{tabular}\n",
            "text/plain": [
              "  x1         x2          x3         x4         x5          x6        \n",
              "1  1.6121462 -0.06232354 -0.8529892 -0.6289533 -1.25375539  0.2784459\n",
              "2 -0.5912932 -0.85956918  0.4191234 -0.4400123 -1.10531031 -0.6212755\n",
              "3 -0.7221665  0.77325349  0.6327792  0.3279123  0.58771375  0.9466239\n",
              "4 -2.3762106 -0.73012714  1.2426104 -0.9584096  0.08107354  0.7792539\n",
              "5 -0.6461708 -1.19135815 -0.7292524  0.3907425  0.45241382 -2.1570203\n",
              "6 -0.7254025 -0.01360758 -1.1735859  0.9665259  0.77204310 -1.6154565\n",
              "  x7          x8         x9          x10        ⋯ x12          x13        \n",
              "1 -0.85727115 -1.0380393 -0.07431788  1.1696039 ⋯ -0.284183231 -0.04692446\n",
              "2 -1.04795561  0.5394848  0.31067039  0.3045565 ⋯  0.005294635 -0.79788145\n",
              "3  1.35191122 -0.8663276  0.91656613  1.8614002 ⋯  1.585804018  0.46803560\n",
              "4 -0.64568154 -0.4262454  1.11165865 -0.8757133 ⋯  0.594952882 -0.34141192\n",
              "5 -0.46927108 -0.7344011 -1.19135498  0.5722186 ⋯  1.240175029 -1.78038509\n",
              "6  0.09176664  1.3567897 -0.42705313  0.0141786 ⋯ -0.717254831  0.21792386\n",
              "  x14         x15        x16        x17        x18        x19       \n",
              "1  0.75231624 -0.2388338  0.5859516 -0.5788594  0.3542662 -0.1278698\n",
              "2 -0.62964470  0.8261991 -1.1866012  2.7034960 -0.1840551  0.4347243\n",
              "3 -1.43875859 -0.9038115  2.3467646 -0.8134583 -0.9581906  1.3986076\n",
              "4  1.17840045  0.6768907  1.8649899 -0.7013750 -1.8685490 -0.7044939\n",
              "5  0.70213007  0.2696388  0.1367579  1.0203101  1.1488594  0.1038445\n",
              "6  0.01006601  1.1869282  1.2060878 -0.7245896 -1.5859460 -0.2024745\n",
              "  x20         y         \n",
              "1  0.12284860 -2.3572036\n",
              "2 -0.99645577  3.2827437\n",
              "3 -0.08577181 -0.1969125\n",
              "4 -0.12502707 -1.0820421\n",
              "5  0.51248933 -4.4028769\n",
              "6 -0.90069934  1.0594188"
            ]
          },
          "metadata": {}
        }
      ],
      "source": [
        "# WRITE YOUR CODE HERE\n",
        "set.seed(1997)\n",
        "# parameters\n",
        "n <- 1000\n",
        "p <- 20\n",
        "\n",
        "beta <- runif(p, min = -2, max = 2) # vector of length 20.\n",
        "beta[sample(1:p, 10)] <- 0  # setting half of them to 0\n",
        "beta\n",
        "\n",
        "dat <- matrix(rnorm(n * p), nrow = n, ncol = p)\n",
        "colnames(dat) <- paste0(\"x\", 1:20)\n",
        "\n",
        "e <- rnorm(n, mean = 0, sd = 0.5)\n",
        "\n",
        "y <- colSums((t(dat) * beta)) + e\n",
        "\n",
        "dat <- data.frame(dat)\n",
        "dat$y <- y\n",
        "\n",
        "head(dat)\n",
        "\n",
        "train <- dat[1:100, ]\n",
        "test <- dat[101:1000, ]"
      ],
      "id": "3f113879"
    },
    {
      "cell_type": "markdown",
      "metadata": {
        "id": "5886639c"
      },
      "source": [
        "b) Perform best subset selection on the training set, and plot the associated training and test set MSE for the best model of each size."
      ],
      "id": "5886639c"
    },
    {
      "cell_type": "code",
      "execution_count": 95,
      "metadata": {
        "id": "a1dbdf04",
        "vscode": {
          "languageId": "r"
        },
        "colab": {
          "base_uri": "https://localhost:8080/",
          "height": 857
        },
        "outputId": "6c0c69d2-52cd-4b3a-e6c1-306d9f69cc1b"
      },
      "outputs": [
        {
          "output_type": "display_data",
          "data": {
            "text/plain": [
              "plot without title"
            ],
            "image/png": "[encoded data removed]"
          },
          "metadata": {
            "image/png": {
              "width": 420,
              "height": 420
            }
          }
        },
        {
          "output_type": "display_data",
          "data": {
            "text/plain": [
              "plot without title"
            ],
            "image/png": "[encoded data removed]"
          },
          "metadata": {
            "image/png": {
              "width": 420,
              "height": 420
            }
          }
        }
      ],
      "source": [
        "# WRITE YOUR CODE HERE\n",
        "train_fit <- regsubsets(y ~ ., data = train)\n",
        "#summary(train_fit)\n",
        "train_fit_summary <- summary(train_fit)\n",
        "\n",
        "train_plot_data <- data.frame(num_pred <- 1:length(train_fit_summary$rss),\n",
        "                        mse <- train_fit_summary$rss / 100)\n",
        "\n",
        "ggplot(train_plot_data, aes(x = num_pred, y = mse)) +\n",
        "  geom_line() +\n",
        "    geom_point() +\n",
        "    xlab(\"Number of Predictors\") +\n",
        "    ylab(\"MSE\") +\n",
        "    theme_minimal()\n",
        "\n",
        "test_mat = model.matrix(y~., data = test)\n",
        "test_mse = rep(NA,length(train_fit_summary$rss))\n",
        "\n",
        "for(i in 1:length(train_fit_summary$rss)){\n",
        "\n",
        "    # extract the coefficients\n",
        "    coefi = coef(train_fit, i)\n",
        "\n",
        "    # make predictions using matrix multiplication of the test matirx and the coefficients vector\n",
        "    pred = test_mat[,names(coefi)]%*%coefi\n",
        "\n",
        "    # Calculate the MSE\n",
        "    test_mse[i] = mean((test$y-pred)^2)\n",
        "}\n",
        "\n",
        "test_plot_data <- data.frame(num_pred = 1:length(test_mse),\n",
        "                             mse = test_mse)\n",
        "\n",
        "# Plot the test MSE data\n",
        "ggplot(test_plot_data, aes(x = num_pred, y = mse)) +\n",
        "  geom_line() +\n",
        "    geom_point() +\n",
        "      xlab(\"Number of Predictors\") +\n",
        "        ylab(\"Test MSE\") +\n",
        "          theme_minimal()"
      ],
      "id": "a1dbdf04"
    },
    {
      "cell_type": "markdown",
      "metadata": {
        "id": "24f9d2f1"
      },
      "source": [
        "c) Identify the best model according the test MSE. How does this model compare to the actual model used to simulate the dataset?\n",
        "\n",
        "*Note: If the model identified contains only an intercept or all of the features, then generate a new dataset (i.e. repeat part a with a different random seed) until the test set MSE is minimized for an intermediate model size.*"
      ],
      "id": "24f9d2f1"
    },
    {
      "cell_type": "code",
      "execution_count": 98,
      "metadata": {
        "id": "87db7d52",
        "vscode": {
          "languageId": "r"
        },
        "colab": {
          "base_uri": "https://localhost:8080/",
          "height": 69
        },
        "outputId": "80ab06cd-918f-4283-980f-7085cc7aa03b"
      },
      "outputs": [
        {
          "output_type": "display_data",
          "data": {
            "text/html": [
              "8"
            ],
            "text/markdown": "8",
            "text/latex": "8",
            "text/plain": [
              "[1] 8"
            ]
          },
          "metadata": {}
        },
        {
          "output_type": "display_data",
          "data": {
            "text/html": [
              "<style>\n",
              ".dl-inline {width: auto; margin:0; padding: 0}\n",
              ".dl-inline>dt, .dl-inline>dd {float: none; width: auto; display: inline-block}\n",
              ".dl-inline>dt::after {content: \":\\0020\"; padding-right: .5ex}\n",
              ".dl-inline>dt:not(:first-of-type) {padding-left: .5ex}\n",
              "</style><dl class=dl-inline><dt>(Intercept)</dt><dd>-0.13843287331594</dd><dt>x1</dt><dd>-1.11919382657127</dd><dt>x2</dt><dd>0.583095105056398</dd><dt>x4</dt><dd>0.961570765179235</dd><dt>x5</dt><dd>-1.50350325450737</dd><dt>x14</dt><dd>-1.83917534110568</dd><dt>x16</dt><dd>-0.631422802256244</dd><dt>x19</dt><dd>-1.62920411107757</dd><dt>x20</dt><dd>-0.733443640374377</dd></dl>\n"
            ],
            "text/markdown": "(Intercept)\n:   -0.13843287331594x1\n:   -1.11919382657127x2\n:   0.583095105056398x4\n:   0.961570765179235x5\n:   -1.50350325450737x14\n:   -1.83917534110568x16\n:   -0.631422802256244x19\n:   -1.62920411107757x20\n:   -0.733443640374377\n\n",
            "text/latex": "\\begin{description*}\n\\item[(Intercept)] -0.13843287331594\n\\item[x1] -1.11919382657127\n\\item[x2] 0.583095105056398\n\\item[x4] 0.961570765179235\n\\item[x5] -1.50350325450737\n\\item[x14] -1.83917534110568\n\\item[x16] -0.631422802256244\n\\item[x19] -1.62920411107757\n\\item[x20] -0.733443640374377\n\\end{description*}\n",
            "text/plain": [
              "(Intercept)          x1          x2          x4          x5         x14 \n",
              " -0.1384329  -1.1191938   0.5830951   0.9615708  -1.5035033  -1.8391753 \n",
              "        x16         x19         x20 \n",
              " -0.6314228  -1.6292041  -0.7334436 "
            ]
          },
          "metadata": {}
        }
      ],
      "source": [
        "# WRITE YOUR CODE HERE\n",
        "which.min(test_mse)\n",
        "coef(train_fit, 8)\n",
        "# -1.1144403712824 0.52614872250706 0 1.03203241433948 -1.46307313907892 0.51514502428472 0 0 0 0 0 -0.527756507508457 0 -1.89949801936746 0 -0.712022013962269 0 0 -1.55381905566901 -0.679967186413705\n",
        "# x1, x2, x4, x5, x6, x12, x14, x16, x19, x20\n",
        "\n",
        "the best model accoridng to test MSE missed two features from the true model that was used to simulate the dataset (x6 which is meant to be -1.46307313907892, and -0.527756507508457)."
      ],
      "id": "87db7d52"
    },
    {
      "cell_type": "markdown",
      "metadata": {
        "id": "894b4503"
      },
      "source": [
        "> *Write your response here*\n",
        ">"
      ],
      "id": "894b4503"
    },
    {
      "cell_type": "markdown",
      "metadata": {
        "id": "35b974f0"
      },
      "source": [
        "**DUE:** 5pm EST, April 8, 2024"
      ],
      "id": "35b974f0"
    },
    {
      "cell_type": "markdown",
      "metadata": {
        "id": "957a72c5"
      },
      "source": [
        "**IMPORTANT** Did you collaborate with anyone on this assignment? If so, list their names here.\n",
        "> *Someone's Name*"
      ],
      "id": "957a72c5"
    }
  ],
  "metadata": {
    "colab": {
      "provenance": [],
      "include_colab_link": true
    },
    "kernelspec": {
      "display_name": "R",
      "language": "R",
      "name": "ir"
    },
    "language_info": {
      "codemirror_mode": "r",
      "file_extension": ".r",
      "mimetype": "text/x-r-source",
      "name": "R",
      "pygments_lexer": "r",
      "version": "4.2.0"
    }
  },
  "nbformat": 4,
  "nbformat_minor": 5
}
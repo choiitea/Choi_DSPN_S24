{
  "cells": [
    {
      "cell_type": "markdown",
      "metadata": {
        "id": "4HLDufNbEyRb"
      },
      "source": [
        "# Tutorial: Data as Objects and Tidy Data\n",
        "\n",
        "## Goals:\n",
        "* Learn about Tidy Data, long data, and wide data\n",
        "* Learn how to interact with model objects in R, including extracting coefficients"
      ]
    },
    {
      "cell_type": "markdown",
      "metadata": {
        "id": "riXmfzuPEyRc"
      },
      "source": [
        "---\n",
        "# Tidy Data"
      ]
    },
    {
      "cell_type": "markdown",
      "metadata": {
        "id": "GygYOYht0ZAK"
      },
      "source": [
        "When you are working with data frames, it is best practice to keep your data **tidy**. **Tidy data** is a very specific term in which the following are true:\n",
        "\n",
        "* Columns are variables\n",
        "* Rows are individual observations\n",
        "* Observation for each variable is stored in the corresponding cell\n",
        "\n",
        "There are two versions of the tidy data format - long and wide. To illustrate the difference, imagine a repeated measures dataset, where you gather four observations for each subject at four different time points. In the **long data** format, each row represents an **observation** at a specific timepoint for a specific subject. Each subject has multiple rows of observations. The columns will be *subject*, *timepoint*, and *observation*. For example:"
      ]
    },
    {
      "cell_type": "code",
      "execution_count": null,
      "metadata": {
        "colab": {
          "base_uri": "https://localhost:8080/",
          "height": 475
        },
        "id": "6P41tAP50ZAK",
        "outputId": "492d1c7b-2cd5-47f0-b7d1-68c6062c3723"
      },
      "outputs": [
        {
          "output_type": "display_data",
          "data": {
            "text/html": [
              "<table class=\"dataframe\">\n",
              "<caption>A data.frame: 12 × 3</caption>\n",
              "<thead>\n",
              "\t<tr><th scope=col>subject</th><th scope=col>timepoint</th><th scope=col>observation</th></tr>\n",
              "\t<tr><th scope=col>&lt;int&gt;</th><th scope=col>&lt;int&gt;</th><th scope=col>&lt;dbl&gt;</th></tr>\n",
              "</thead>\n",
              "<tbody>\n",
              "\t<tr><td>1</td><td>1</td><td>-1.09</td></tr>\n",
              "\t<tr><td>1</td><td>2</td><td> 0.10</td></tr>\n",
              "\t<tr><td>1</td><td>3</td><td> 0.84</td></tr>\n",
              "\t<tr><td>1</td><td>4</td><td> 1.09</td></tr>\n",
              "\t<tr><td>2</td><td>1</td><td>-0.81</td></tr>\n",
              "\t<tr><td>2</td><td>2</td><td>-0.13</td></tr>\n",
              "\t<tr><td>2</td><td>3</td><td> 0.76</td></tr>\n",
              "\t<tr><td>2</td><td>4</td><td>-0.44</td></tr>\n",
              "\t<tr><td>3</td><td>1</td><td> 2.09</td></tr>\n",
              "\t<tr><td>3</td><td>2</td><td>-1.62</td></tr>\n",
              "\t<tr><td>3</td><td>3</td><td> 0.95</td></tr>\n",
              "\t<tr><td>3</td><td>4</td><td>-0.09</td></tr>\n",
              "</tbody>\n",
              "</table>\n"
            ],
            "text/markdown": "\nA data.frame: 12 × 3\n\n| subject &lt;int&gt; | timepoint &lt;int&gt; | observation &lt;dbl&gt; |\n|---|---|---|\n| 1 | 1 | -1.09 |\n| 1 | 2 |  0.10 |\n| 1 | 3 |  0.84 |\n| 1 | 4 |  1.09 |\n| 2 | 1 | -0.81 |\n| 2 | 2 | -0.13 |\n| 2 | 3 |  0.76 |\n| 2 | 4 | -0.44 |\n| 3 | 1 |  2.09 |\n| 3 | 2 | -1.62 |\n| 3 | 3 |  0.95 |\n| 3 | 4 | -0.09 |\n\n",
            "text/latex": "A data.frame: 12 × 3\n\\begin{tabular}{lll}\n subject & timepoint & observation\\\\\n <int> & <int> & <dbl>\\\\\n\\hline\n\t 1 & 1 & -1.09\\\\\n\t 1 & 2 &  0.10\\\\\n\t 1 & 3 &  0.84\\\\\n\t 1 & 4 &  1.09\\\\\n\t 2 & 1 & -0.81\\\\\n\t 2 & 2 & -0.13\\\\\n\t 2 & 3 &  0.76\\\\\n\t 2 & 4 & -0.44\\\\\n\t 3 & 1 &  2.09\\\\\n\t 3 & 2 & -1.62\\\\\n\t 3 & 3 &  0.95\\\\\n\t 3 & 4 & -0.09\\\\\n\\end{tabular}\n",
            "text/plain": [
              "   subject timepoint observation\n",
              "1  1       1         -1.09      \n",
              "2  1       2          0.10      \n",
              "3  1       3          0.84      \n",
              "4  1       4          1.09      \n",
              "5  2       1         -0.81      \n",
              "6  2       2         -0.13      \n",
              "7  2       3          0.76      \n",
              "8  2       4         -0.44      \n",
              "9  3       1          2.09      \n",
              "10 3       2         -1.62      \n",
              "11 3       3          0.95      \n",
              "12 3       4         -0.09      "
            ]
          },
          "metadata": {}
        }
      ],
      "source": [
        "long_data <- data.frame(subject = rep(1:3, each=4),  # rep repeats a vector n times\n",
        "                        timepoint = rep(1:4, times=3), # same as previous\n",
        "                        observation = round(rnorm(12), 2)) #rnorm simulates a normal distribution\n",
        "long_data # print out long data table"
      ]
    },
    {
      "cell_type": "markdown",
      "metadata": {
        "id": "gfjAUDkx0ZAL"
      },
      "source": [
        "Alternatively, the data can be organized in a **wide format**, in which each row is a single **subject**, the four different timepoints are represented as different columns, and the observation for each timepoint is stored at a cell within that column. Like this (don't worry about the code for now, it is explained in the next tutorial):"
      ]
    },
    {
      "cell_type": "code",
      "execution_count": null,
      "metadata": {
        "colab": {
          "base_uri": "https://localhost:8080/",
          "height": 192
        },
        "id": "f0gKFGvd0ZAL",
        "outputId": "c5c7d7a3-b27a-4efb-951b-2eaec0b3d04e"
      },
      "outputs": [
        {
          "output_type": "display_data",
          "data": {
            "text/html": [
              "<table class=\"dataframe\">\n",
              "<caption>A data.frame: 3 × 5</caption>\n",
              "<thead>\n",
              "\t<tr><th scope=col>subject</th><th scope=col>time1</th><th scope=col>time2</th><th scope=col>time3</th><th scope=col>time4</th></tr>\n",
              "\t<tr><th scope=col>&lt;int&gt;</th><th scope=col>&lt;dbl&gt;</th><th scope=col>&lt;dbl&gt;</th><th scope=col>&lt;dbl&gt;</th><th scope=col>&lt;dbl&gt;</th></tr>\n",
              "</thead>\n",
              "<tbody>\n",
              "\t<tr><td>1</td><td>-1.09</td><td> 0.10</td><td>0.84</td><td> 1.09</td></tr>\n",
              "\t<tr><td>2</td><td>-0.81</td><td>-0.13</td><td>0.76</td><td>-0.44</td></tr>\n",
              "\t<tr><td>3</td><td> 2.09</td><td>-1.62</td><td>0.95</td><td>-0.09</td></tr>\n",
              "</tbody>\n",
              "</table>\n"
            ],
            "text/markdown": "\nA data.frame: 3 × 5\n\n| subject &lt;int&gt; | time1 &lt;dbl&gt; | time2 &lt;dbl&gt; | time3 &lt;dbl&gt; | time4 &lt;dbl&gt; |\n|---|---|---|---|---|\n| 1 | -1.09 |  0.10 | 0.84 |  1.09 |\n| 2 | -0.81 | -0.13 | 0.76 | -0.44 |\n| 3 |  2.09 | -1.62 | 0.95 | -0.09 |\n\n",
            "text/latex": "A data.frame: 3 × 5\n\\begin{tabular}{lllll}\n subject & time1 & time2 & time3 & time4\\\\\n <int> & <dbl> & <dbl> & <dbl> & <dbl>\\\\\n\\hline\n\t 1 & -1.09 &  0.10 & 0.84 &  1.09\\\\\n\t 2 & -0.81 & -0.13 & 0.76 & -0.44\\\\\n\t 3 &  2.09 & -1.62 & 0.95 & -0.09\\\\\n\\end{tabular}\n",
            "text/plain": [
              "  subject time1 time2 time3 time4\n",
              "1 1       -1.09  0.10 0.84   1.09\n",
              "2 2       -0.81 -0.13 0.76  -0.44\n",
              "3 3        2.09 -1.62 0.95  -0.09"
            ]
          },
          "metadata": {}
        }
      ],
      "source": [
        "library(tidyverse) #We'll learn about this package in the next tutorial!\n",
        "\n",
        "long_data  %>% # This is a pipe. We will learn about this later\n",
        "    mutate(timepoint = paste0('time',timepoint))  %>%  # mutate makes a new column\n",
        "    spread(timepoint, observation) # spread pushes an observation across multiple columns"
      ]
    },
    {
      "cell_type": "markdown",
      "metadata": {
        "id": "Ig5Hr5dD0ZAh"
      },
      "source": [
        "---\n",
        "# Interacting with model objects in R"
      ]
    },
    {
      "cell_type": "markdown",
      "metadata": {
        "id": "raUZkQY20ZAh"
      },
      "source": [
        "Whenever you run a regression or any other type of model, the resulting model is saved in an **object** with properties you can access. This is handy for fitting a model once, and then referencing different aspects of that model's performance and fit. Let's see an example:"
      ]
    },
    {
      "cell_type": "code",
      "execution_count": null,
      "metadata": {
        "colab": {
          "base_uri": "https://localhost:8080/",
          "height": 286
        },
        "id": "POfAYyZ60ZAh",
        "outputId": "839ecd3a-86fe-4134-e083-456ad793a6a4"
      },
      "outputs": [
        {
          "output_type": "display_data",
          "data": {
            "text/html": [
              "<table class=\"dataframe\">\n",
              "<caption>A data.frame: 6 × 3</caption>\n",
              "<thead>\n",
              "\t<tr><th></th><th scope=col>x1</th><th scope=col>x2</th><th scope=col>y</th></tr>\n",
              "\t<tr><th></th><th scope=col>&lt;dbl&gt;</th><th scope=col>&lt;dbl&gt;</th><th scope=col>&lt;dbl&gt;</th></tr>\n",
              "</thead>\n",
              "<tbody>\n",
              "\t<tr><th scope=row>1</th><td>-4.0</td><td>-4</td><td>-0.3820138</td></tr>\n",
              "\t<tr><th scope=row>2</th><td>-3.5</td><td>-4</td><td>-0.3706878</td></tr>\n",
              "\t<tr><th scope=row>3</th><td>-3.0</td><td>-4</td><td>-0.3525741</td></tr>\n",
              "\t<tr><th scope=row>4</th><td>-2.5</td><td>-4</td><td>-0.3241418</td></tr>\n",
              "\t<tr><th scope=row>5</th><td>-2.0</td><td>-4</td><td>-0.2807971</td></tr>\n",
              "\t<tr><th scope=row>6</th><td>-1.5</td><td>-4</td><td>-0.2175745</td></tr>\n",
              "</tbody>\n",
              "</table>\n"
            ],
            "text/markdown": "\nA data.frame: 6 × 3\n\n| <!--/--> | x1 &lt;dbl&gt; | x2 &lt;dbl&gt; | y &lt;dbl&gt; |\n|---|---|---|---|\n| 1 | -4.0 | -4 | -0.3820138 |\n| 2 | -3.5 | -4 | -0.3706878 |\n| 3 | -3.0 | -4 | -0.3525741 |\n| 4 | -2.5 | -4 | -0.3241418 |\n| 5 | -2.0 | -4 | -0.2807971 |\n| 6 | -1.5 | -4 | -0.2175745 |\n\n",
            "text/latex": "A data.frame: 6 × 3\n\\begin{tabular}{r|lll}\n  & x1 & x2 & y\\\\\n  & <dbl> & <dbl> & <dbl>\\\\\n\\hline\n\t1 & -4.0 & -4 & -0.3820138\\\\\n\t2 & -3.5 & -4 & -0.3706878\\\\\n\t3 & -3.0 & -4 & -0.3525741\\\\\n\t4 & -2.5 & -4 & -0.3241418\\\\\n\t5 & -2.0 & -4 & -0.2807971\\\\\n\t6 & -1.5 & -4 & -0.2175745\\\\\n\\end{tabular}\n",
            "text/plain": [
              "  x1   x2 y         \n",
              "1 -4.0 -4 -0.3820138\n",
              "2 -3.5 -4 -0.3706878\n",
              "3 -3.0 -4 -0.3525741\n",
              "4 -2.5 -4 -0.3241418\n",
              "5 -2.0 -4 -0.2807971\n",
              "6 -1.5 -4 -0.2175745"
            ]
          },
          "metadata": {}
        }
      ],
      "source": [
        "# generate data where y is a function of two variables, x1 and x2\n",
        "x1 <- seq(-4,4,0.5) #generate data ranging from -4 to 4 in steps of 0.5\n",
        "x2 <- seq(-4,4,0.5)\n",
        "\n",
        "#specify a sigmoidal relationship between x1 and y\n",
        "#and a linear relationship between x2 and y\n",
        "dat <- expand.grid(x1=x1, x2=x2) %>%\n",
        "    mutate(y = 1/(1+exp(-x1)) + 0.1*x2)\n",
        "\n",
        "head(dat)"
      ]
    },
    {
      "cell_type": "markdown",
      "metadata": {
        "id": "O5ANePCVEyRf"
      },
      "source": [
        "Note that `expand.grid` just creates a data frame with all possible pairs of the input variables. So here, each value of `x1` was paired with an `x2` value of -4, then with an `x2` value of -3.5, etc...\n",
        "\n",
        "We'll learn more about the pipe (%>%) and `mutate` in the next tutorial!"
      ]
    },
    {
      "cell_type": "markdown",
      "metadata": {
        "id": "DGOIFowS0ZAi"
      },
      "source": [
        "Here is how y depends on x1 and x2:"
      ]
    },
    {
      "cell_type": "code",
      "execution_count": null,
      "metadata": {
        "colab": {
          "base_uri": "https://localhost:8080/",
          "height": 497
        },
        "id": "eK7wZzTg0ZAi",
        "outputId": "76051459-93c0-4197-9074-69ffe45dba40",
        "scrolled": true
      },
      "outputs": [
        {
          "output_type": "display_data",
          "data": {
            "text/plain": [
              "plot without title"
            ],
            "image/png": "[encoded data removed]"
          },
          "metadata": {
            "image/png": {
              "width": 720,
              "height": 480
            }
          }
        }
      ],
      "source": [
        "# setting figure size\n",
        "options(repr.plot.width=12, repr.plot.height=8)\n",
        "\n",
        "dat  %>%\n",
        "    gather(var, value, x1, x2) %>% # make it long format - only x1 or x2 in each row\n",
        "    ggplot(aes(value, y)) + # we will learn aboug ggplot in a later tutorial\n",
        "    stat_summary(geom='point',fun=mean) +\n",
        "    stat_summary(geom='line',fun=mean) +\n",
        "    facet_wrap(~var) # optimally wraps figures as needed\n"
      ]
    },
    {
      "cell_type": "markdown",
      "metadata": {
        "id": "yZHaRzcg0ZAi"
      },
      "source": [
        "Now, let's add some noise and try to fit a regression model"
      ]
    },
    {
      "cell_type": "code",
      "execution_count": null,
      "metadata": {
        "id": "P9Wet_zl0ZAi"
      },
      "outputs": [],
      "source": [
        "#create new y_obs variable with normally distributed noise\n",
        "dat <- mutate(dat, y_obs = y + rnorm(length(y), mean=0, sd=0.1))\n",
        "\n",
        "#fit a linear model to find the regression coefficients\n",
        "model_fit <- lm(y_obs ~ x1 + x2, data=dat)"
      ]
    },
    {
      "cell_type": "markdown",
      "metadata": {
        "id": "0KkyK-Kd0ZAi"
      },
      "source": [
        "The resulting model is saved in the `model_fit` variable. This is the \"model object\", and you can do a number of things with it. First, the `str()` command, which is a general function for printing the structure of r objects, will tell you what you can find in the model object. As you can see below, it is a list of different variables, which you can access by typing the name of the model, followed by `$variable`."
      ]
    },
    {
      "cell_type": "code",
      "execution_count": null,
      "metadata": {
        "colab": {
          "base_uri": "https://localhost:8080/"
        },
        "id": "ho58svUp0ZAi",
        "outputId": "8fb17a48-f287-4913-9f6c-d9b713dd8808"
      },
      "outputs": [
        {
          "output_type": "stream",
          "name": "stdout",
          "text": [
            "List of 12\n",
            " $ coefficients : Named num [1:3] 0.4996 0.1507 0.0999\n",
            "  ..- attr(*, \"names\")= chr [1:3] \"(Intercept)\" \"x1\" \"x2\"\n",
            " $ residuals    : Named num [1:289] 0.0767 0.1405 0.0611 -0.0984 -0.0678 ...\n",
            "  ..- attr(*, \"names\")= chr [1:289] \"1\" \"2\" \"3\" \"4\" ...\n",
            " $ effects      : Named num [1:289] -8.4925 6.2743 4.1608 -0.1134 -0.0814 ...\n",
            "  ..- attr(*, \"names\")= chr [1:289] \"(Intercept)\" \"x1\" \"x2\" \"\" ...\n",
            " $ rank         : int 3\n",
            " $ fitted.values: Named num [1:289] -0.503 -0.427 -0.352 -0.277 -0.201 ...\n",
            "  ..- attr(*, \"names\")= chr [1:289] \"1\" \"2\" \"3\" \"4\" ...\n",
            " $ assign       : int [1:3] 0 1 2\n",
            " $ qr           :List of 5\n",
            "  ..$ qr   : num [1:289, 1:3] -17 0.0588 0.0588 0.0588 0.0588 ...\n",
            "  .. ..- attr(*, \"dimnames\")=List of 2\n",
            "  .. .. ..$ : chr [1:289] \"1\" \"2\" \"3\" \"4\" ...\n",
            "  .. .. ..$ : chr [1:3] \"(Intercept)\" \"x1\" \"x2\"\n",
            "  .. ..- attr(*, \"assign\")= int [1:3] 0 1 2\n",
            "  ..$ qraux: num [1:3] 1.06 1.08 1.09\n",
            "  ..$ pivot: int [1:3] 1 2 3\n",
            "  ..$ tol  : num 1e-07\n",
            "  ..$ rank : int 3\n",
            "  ..- attr(*, \"class\")= chr \"qr\"\n",
            " $ df.residual  : int 286\n",
            " $ xlevels      : Named list()\n",
            " $ call         : language lm(formula = y_obs ~ x1 + x2, data = dat)\n",
            " $ terms        :Classes 'terms', 'formula'  language y_obs ~ x1 + x2\n",
            "  .. ..- attr(*, \"variables\")= language list(y_obs, x1, x2)\n",
            "  .. ..- attr(*, \"factors\")= int [1:3, 1:2] 0 1 0 0 0 1\n",
            "  .. .. ..- attr(*, \"dimnames\")=List of 2\n",
            "  .. .. .. ..$ : chr [1:3] \"y_obs\" \"x1\" \"x2\"\n",
            "  .. .. .. ..$ : chr [1:2] \"x1\" \"x2\"\n",
            "  .. ..- attr(*, \"term.labels\")= chr [1:2] \"x1\" \"x2\"\n",
            "  .. ..- attr(*, \"order\")= int [1:2] 1 1\n",
            "  .. ..- attr(*, \"intercept\")= int 1\n",
            "  .. ..- attr(*, \"response\")= int 1\n",
            "  .. ..- attr(*, \".Environment\")=<environment: R_GlobalEnv> \n",
            "  .. ..- attr(*, \"predvars\")= language list(y_obs, x1, x2)\n",
            "  .. ..- attr(*, \"dataClasses\")= Named chr [1:3] \"numeric\" \"numeric\" \"numeric\"\n",
            "  .. .. ..- attr(*, \"names\")= chr [1:3] \"y_obs\" \"x1\" \"x2\"\n",
            " $ model        :'data.frame':\t289 obs. of  3 variables:\n",
            "  ..$ y_obs: num [1:289] -0.426 -0.287 -0.291 -0.375 -0.269 ...\n",
            "  ..$ x1   : num [1:289] -4 -3.5 -3 -2.5 -2 -1.5 -1 -0.5 0 0.5 ...\n",
            "  ..$ x2   : num [1:289] -4 -4 -4 -4 -4 -4 -4 -4 -4 -4 ...\n",
            "  ..- attr(*, \"terms\")=Classes 'terms', 'formula'  language y_obs ~ x1 + x2\n",
            "  .. .. ..- attr(*, \"variables\")= language list(y_obs, x1, x2)\n",
            "  .. .. ..- attr(*, \"factors\")= int [1:3, 1:2] 0 1 0 0 0 1\n",
            "  .. .. .. ..- attr(*, \"dimnames\")=List of 2\n",
            "  .. .. .. .. ..$ : chr [1:3] \"y_obs\" \"x1\" \"x2\"\n",
            "  .. .. .. .. ..$ : chr [1:2] \"x1\" \"x2\"\n",
            "  .. .. ..- attr(*, \"term.labels\")= chr [1:2] \"x1\" \"x2\"\n",
            "  .. .. ..- attr(*, \"order\")= int [1:2] 1 1\n",
            "  .. .. ..- attr(*, \"intercept\")= int 1\n",
            "  .. .. ..- attr(*, \"response\")= int 1\n",
            "  .. .. ..- attr(*, \".Environment\")=<environment: R_GlobalEnv> \n",
            "  .. .. ..- attr(*, \"predvars\")= language list(y_obs, x1, x2)\n",
            "  .. .. ..- attr(*, \"dataClasses\")= Named chr [1:3] \"numeric\" \"numeric\" \"numeric\"\n",
            "  .. .. .. ..- attr(*, \"names\")= chr [1:3] \"y_obs\" \"x1\" \"x2\"\n",
            " - attr(*, \"class\")= chr \"lm\"\n"
          ]
        }
      ],
      "source": [
        "str(model_fit) #print the structure of the model object"
      ]
    },
    {
      "cell_type": "markdown",
      "metadata": {
        "id": "zgkM2poe0ZAj"
      },
      "source": [
        "For example, if we want to extract the estimated regression coefficients, we can type this, which returns a named vector."
      ]
    },
    {
      "cell_type": "code",
      "execution_count": null,
      "metadata": {
        "colab": {
          "base_uri": "https://localhost:8080/",
          "height": 34
        },
        "id": "eSP2I1iD0ZAj",
        "outputId": "6e3cef12-6ddb-447b-e66f-fcb446ec8cdc"
      },
      "outputs": [
        {
          "output_type": "display_data",
          "data": {
            "text/html": [
              "<style>\n",
              ".dl-inline {width: auto; margin:0; padding: 0}\n",
              ".dl-inline>dt, .dl-inline>dd {float: none; width: auto; display: inline-block}\n",
              ".dl-inline>dt::after {content: \":\\0020\"; padding-right: .5ex}\n",
              ".dl-inline>dt:not(:first-of-type) {padding-left: .5ex}\n",
              "</style><dl class=dl-inline><dt>(Intercept)</dt><dd>0.499559922079091</dd><dt>x1</dt><dd>0.150675486478537</dd><dt>x2</dt><dd>0.0999191218958173</dd></dl>\n"
            ],
            "text/markdown": "(Intercept)\n:   0.499559922079091x1\n:   0.150675486478537x2\n:   0.0999191218958173\n\n",
            "text/latex": "\\begin{description*}\n\\item[(Intercept)] 0.499559922079091\n\\item[x1] 0.150675486478537\n\\item[x2] 0.0999191218958173\n\\end{description*}\n",
            "text/plain": [
              "(Intercept)          x1          x2 \n",
              " 0.49955992  0.15067549  0.09991912 "
            ]
          },
          "metadata": {}
        }
      ],
      "source": [
        "model_fit$coefficients"
      ]
    },
    {
      "cell_type": "markdown",
      "metadata": {
        "id": "T18PjuC80ZAj"
      },
      "source": [
        "If we run multiple models, we might want to store these values in a data.frame, rather than a named vector like this:"
      ]
    },
    {
      "cell_type": "code",
      "execution_count": null,
      "metadata": {
        "colab": {
          "base_uri": "https://localhost:8080/",
          "height": 192
        },
        "id": "RifpOV1b0ZAj",
        "outputId": "e47338be-8d81-4804-cc44-0633ca8337bf"
      },
      "outputs": [
        {
          "output_type": "display_data",
          "data": {
            "text/html": [
              "<table class=\"dataframe\">\n",
              "<caption>A data.frame: 3 × 2</caption>\n",
              "<thead>\n",
              "\t<tr><th></th><th scope=col>name</th><th scope=col>value</th></tr>\n",
              "\t<tr><th></th><th scope=col>&lt;chr&gt;</th><th scope=col>&lt;dbl&gt;</th></tr>\n",
              "</thead>\n",
              "<tbody>\n",
              "\t<tr><th scope=row>(Intercept)</th><td>(Intercept)</td><td>0.49955992</td></tr>\n",
              "\t<tr><th scope=row>x1</th><td>x1         </td><td>0.15067549</td></tr>\n",
              "\t<tr><th scope=row>x2</th><td>x2         </td><td>0.09991912</td></tr>\n",
              "</tbody>\n",
              "</table>\n"
            ],
            "text/markdown": "\nA data.frame: 3 × 2\n\n| <!--/--> | name &lt;chr&gt; | value &lt;dbl&gt; |\n|---|---|---|\n| (Intercept) | (Intercept) | 0.49955992 |\n| x1 | x1          | 0.15067549 |\n| x2 | x2          | 0.09991912 |\n\n",
            "text/latex": "A data.frame: 3 × 2\n\\begin{tabular}{r|ll}\n  & name & value\\\\\n  & <chr> & <dbl>\\\\\n\\hline\n\t(Intercept) & (Intercept) & 0.49955992\\\\\n\tx1 & x1          & 0.15067549\\\\\n\tx2 & x2          & 0.09991912\\\\\n\\end{tabular}\n",
            "text/plain": [
              "            name        value     \n",
              "(Intercept) (Intercept) 0.49955992\n",
              "x1          x1          0.15067549\n",
              "x2          x2          0.09991912"
            ]
          },
          "metadata": {}
        }
      ],
      "source": [
        "#store the coefficients in a variable\n",
        "coef <- model_fit$coefficients\n",
        "\n",
        "#save the name/value of the coefficients in a dataframe\n",
        "data.frame(name = names(coef), value = coef)"
      ]
    },
    {
      "cell_type": "markdown",
      "metadata": {
        "id": "AbWkCc8P0ZAj"
      },
      "source": [
        "You can also extract the prediction of the model. They are stored under `$fitted.values`, or you can get them by typing `fitted(model_fit)`, which returns the same values. Then, we can plot the observed values against the predicted values:"
      ]
    },
    {
      "cell_type": "code",
      "execution_count": null,
      "metadata": {
        "colab": {
          "base_uri": "https://localhost:8080/",
          "height": 286
        },
        "id": "xaG8BE1u0ZAj",
        "outputId": "68bac0cb-895b-4487-beca-48c9568a98df"
      },
      "outputs": [
        {
          "output_type": "display_data",
          "data": {
            "text/html": [
              "<table class=\"dataframe\">\n",
              "<caption>A data.frame: 6 × 5</caption>\n",
              "<thead>\n",
              "\t<tr><th></th><th scope=col>x1</th><th scope=col>x2</th><th scope=col>y</th><th scope=col>y_obs</th><th scope=col>fitted</th></tr>\n",
              "\t<tr><th></th><th scope=col>&lt;dbl&gt;</th><th scope=col>&lt;dbl&gt;</th><th scope=col>&lt;dbl&gt;</th><th scope=col>&lt;dbl&gt;</th><th scope=col>&lt;dbl&gt;</th></tr>\n",
              "</thead>\n",
              "<tbody>\n",
              "\t<tr><th scope=row>1</th><td>-4.0</td><td>-4</td><td>-0.3820138</td><td>-0.4261378</td><td>-0.5028185</td></tr>\n",
              "\t<tr><th scope=row>2</th><td>-3.5</td><td>-4</td><td>-0.3706878</td><td>-0.2869985</td><td>-0.4274808</td></tr>\n",
              "\t<tr><th scope=row>3</th><td>-3.0</td><td>-4</td><td>-0.3525741</td><td>-0.2910417</td><td>-0.3521430</td></tr>\n",
              "\t<tr><th scope=row>4</th><td>-2.5</td><td>-4</td><td>-0.3241418</td><td>-0.3752198</td><td>-0.2768053</td></tr>\n",
              "\t<tr><th scope=row>5</th><td>-2.0</td><td>-4</td><td>-0.2807971</td><td>-0.2692938</td><td>-0.2014675</td></tr>\n",
              "\t<tr><th scope=row>6</th><td>-1.5</td><td>-4</td><td>-0.2175745</td><td>-0.2070880</td><td>-0.1261298</td></tr>\n",
              "</tbody>\n",
              "</table>\n"
            ],
            "text/markdown": "\nA data.frame: 6 × 5\n\n| <!--/--> | x1 &lt;dbl&gt; | x2 &lt;dbl&gt; | y &lt;dbl&gt; | y_obs &lt;dbl&gt; | fitted &lt;dbl&gt; |\n|---|---|---|---|---|---|\n| 1 | -4.0 | -4 | -0.3820138 | -0.4261378 | -0.5028185 |\n| 2 | -3.5 | -4 | -0.3706878 | -0.2869985 | -0.4274808 |\n| 3 | -3.0 | -4 | -0.3525741 | -0.2910417 | -0.3521430 |\n| 4 | -2.5 | -4 | -0.3241418 | -0.3752198 | -0.2768053 |\n| 5 | -2.0 | -4 | -0.2807971 | -0.2692938 | -0.2014675 |\n| 6 | -1.5 | -4 | -0.2175745 | -0.2070880 | -0.1261298 |\n\n",
            "text/latex": "A data.frame: 6 × 5\n\\begin{tabular}{r|lllll}\n  & x1 & x2 & y & y\\_obs & fitted\\\\\n  & <dbl> & <dbl> & <dbl> & <dbl> & <dbl>\\\\\n\\hline\n\t1 & -4.0 & -4 & -0.3820138 & -0.4261378 & -0.5028185\\\\\n\t2 & -3.5 & -4 & -0.3706878 & -0.2869985 & -0.4274808\\\\\n\t3 & -3.0 & -4 & -0.3525741 & -0.2910417 & -0.3521430\\\\\n\t4 & -2.5 & -4 & -0.3241418 & -0.3752198 & -0.2768053\\\\\n\t5 & -2.0 & -4 & -0.2807971 & -0.2692938 & -0.2014675\\\\\n\t6 & -1.5 & -4 & -0.2175745 & -0.2070880 & -0.1261298\\\\\n\\end{tabular}\n",
            "text/plain": [
              "  x1   x2 y          y_obs      fitted    \n",
              "1 -4.0 -4 -0.3820138 -0.4261378 -0.5028185\n",
              "2 -3.5 -4 -0.3706878 -0.2869985 -0.4274808\n",
              "3 -3.0 -4 -0.3525741 -0.2910417 -0.3521430\n",
              "4 -2.5 -4 -0.3241418 -0.3752198 -0.2768053\n",
              "5 -2.0 -4 -0.2807971 -0.2692938 -0.2014675\n",
              "6 -1.5 -4 -0.2175745 -0.2070880 -0.1261298"
            ]
          },
          "metadata": {}
        }
      ],
      "source": [
        "#extract model estimate of y for each x and store in df as fitted\n",
        "dat$fitted <- model_fit$fitted.values\n",
        "\n",
        "head(dat) #we see \"fitted\" column added"
      ]
    },
    {
      "cell_type": "code",
      "execution_count": null,
      "metadata": {
        "colab": {
          "base_uri": "https://localhost:8080/",
          "height": 497
        },
        "id": "HmA3jL8R0ZAk",
        "outputId": "af0ca8ff-e914-49d5-81b3-f6e8f867573d"
      },
      "outputs": [
        {
          "output_type": "display_data",
          "data": {
            "text/plain": [
              "plot without title"
            ],
            "image/png": "[encoded data removed]"
          },
          "metadata": {
            "image/png": {
              "width": 720,
              "height": 480
            }
          }
        }
      ],
      "source": [
        "#plot fitted against the observed data\n",
        "ggplot(dat, aes(fitted, y_obs)) +\n",
        "    stat_summary(geom='point',fun=mean)"
      ]
    },
    {
      "cell_type": "markdown",
      "metadata": {
        "id": "222zspi80ZAk"
      },
      "source": [
        "Given your fitted model, you can also easily generate predictions of y given new values of x using the `predict` function:"
      ]
    },
    {
      "cell_type": "code",
      "execution_count": null,
      "metadata": {
        "colab": {
          "base_uri": "https://localhost:8080/",
          "height": 34
        },
        "id": "2ajyC3eS0ZAk",
        "outputId": "fde77546-6e31-4cf0-ec64-e6625c466235",
        "scrolled": false
      },
      "outputs": [
        {
          "output_type": "display_data",
          "data": {
            "text/html": [
              "<strong>1:</strong> 0.745373708644577"
            ],
            "text/markdown": "**1:** 0.745373708644577",
            "text/latex": "\\textbf{1:} 0.745373708644577",
            "text/plain": [
              "        1 \n",
              "0.7453737 "
            ]
          },
          "metadata": {}
        }
      ],
      "source": [
        "new_data <- data.frame(x1=-5, x2=10) #new x-values to give to the model\n",
        "predict(model_fit, newdata = new_data) #predict the y value for a given x"
      ]
    },
    {
      "cell_type": "markdown",
      "metadata": {
        "id": "bgYKszfvEyRj"
      },
      "source": [
        "That's all for now! We'll dive into some more advanced functions for data manipulation in R in the next tutorial."
      ]
    },
    {
      "cell_type": "markdown",
      "metadata": {
        "id": "BUm4wLV1ibtZ"
      },
      "source": [
        "*Notebook authored by Ven Popov and edited by Krista Bond, Charles Wu, Patience Stevens, Amy Sentis, and Fiona Horner.*"
      ]
    }
  ],
  "metadata": {
    "colab": {
      "provenance": []
    },
    "kernelspec": {
      "display_name": "R",
      "language": "R",
      "name": "ir"
    },
    "language_info": {
      "codemirror_mode": "r",
      "file_extension": ".r",
      "mimetype": "text/x-r-source",
      "name": "R",
      "pygments_lexer": "r",
      "version": "4.2.0"
    }
  },
  "nbformat": 4,
  "nbformat_minor": 0
}
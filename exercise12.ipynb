{
  "cells": [
    {
      "cell_type": "markdown",
      "metadata": {
        "id": "view-in-github",
        "colab_type": "text"
      },
      "source": [
        "<a href=\"https://colab.research.google.com/github/choiitea/Choi_DSPN_S24/blob/main/exercise12.ipynb\" target=\"_parent\"><img src=\"https://colab.research.google.com/assets/colab-badge.svg\" alt=\"Open In Colab\"/></a>"
      ]
    },
    {
      "cell_type": "markdown",
      "metadata": {
        "id": "6xdZ1WjBmtDf"
      },
      "source": [
        "# Exercise 12: Cross validation\n",
        "-----\n",
        "\n",
        "In this exercise, we'll practice implementing cross validation techniques, including leave-one-out and k-fold cross validation. We'll use the `PimaIndiansDiabetes2` practice dataset, which has medical data on a group of Pima Native American women, including whether or not they have diabetes. This dataset is part of the `mlbench` package. We'll be using each person's medical history to predict whether or not they have been diagnosed with diabetes."
      ]
    },
    {
      "cell_type": "markdown",
      "metadata": {
        "id": "BubJSLTamtDg"
      },
      "source": [
        "# 1: Data (1 pts)\n",
        "---\n",
        "\n",
        "Load the `tidyverse`, `boot`, and `mlbench` packages (you may need to install `boot` and `mlbench`).\n",
        "\n",
        "Load the `PimaIndiansDiabetes2` dataset using the `data()` function. Drop the `insulin` column (it just has a lot of missing data) and then drop `NA`s from the rest of the dataset. Save your updated dataset to a new variable name. Finally, print the dimensions of your new dataset, and look at the first few lines of data."
      ]
    },
    {
      "cell_type": "code",
      "execution_count": 21,
      "metadata": {
        "id": "QNuKGb6emtDg",
        "vscode": {
          "languageId": "r"
        },
        "colab": {
          "base_uri": "https://localhost:8080/",
          "height": 324
        },
        "outputId": "12009171-5745-4fdd-8d84-def0bd0de632"
      },
      "outputs": [
        {
          "output_type": "display_data",
          "data": {
            "text/html": [
              "<style>\n",
              ".list-inline {list-style: none; margin:0; padding: 0}\n",
              ".list-inline>li {display: inline-block}\n",
              ".list-inline>li:not(:last-child)::after {content: \"\\00b7\"; padding: 0 .5ex}\n",
              "</style>\n",
              "<ol class=list-inline><li>392</li><li>9</li></ol>\n"
            ],
            "text/markdown": "1. 392\n2. 9\n\n\n",
            "text/latex": "\\begin{enumerate*}\n\\item 392\n\\item 9\n\\end{enumerate*}\n",
            "text/plain": [
              "[1] 392   9"
            ]
          },
          "metadata": {}
        },
        {
          "output_type": "display_data",
          "data": {
            "text/html": [
              "<table class=\"dataframe\">\n",
              "<caption>A data.frame: 6 × 9</caption>\n",
              "<thead>\n",
              "\t<tr><th></th><th scope=col>pregnant</th><th scope=col>glucose</th><th scope=col>pressure</th><th scope=col>triceps</th><th scope=col>insulin</th><th scope=col>mass</th><th scope=col>pedigree</th><th scope=col>age</th><th scope=col>diabetes</th></tr>\n",
              "\t<tr><th></th><th scope=col>&lt;dbl&gt;</th><th scope=col>&lt;dbl&gt;</th><th scope=col>&lt;dbl&gt;</th><th scope=col>&lt;dbl&gt;</th><th scope=col>&lt;dbl&gt;</th><th scope=col>&lt;dbl&gt;</th><th scope=col>&lt;dbl&gt;</th><th scope=col>&lt;dbl&gt;</th><th scope=col>&lt;fct&gt;</th></tr>\n",
              "</thead>\n",
              "<tbody>\n",
              "\t<tr><th scope=row>4</th><td>1</td><td> 89</td><td>66</td><td>23</td><td> 94</td><td>28.1</td><td>0.167</td><td>21</td><td>neg</td></tr>\n",
              "\t<tr><th scope=row>5</th><td>0</td><td>137</td><td>40</td><td>35</td><td>168</td><td>43.1</td><td>2.288</td><td>33</td><td>pos</td></tr>\n",
              "\t<tr><th scope=row>7</th><td>3</td><td> 78</td><td>50</td><td>32</td><td> 88</td><td>31.0</td><td>0.248</td><td>26</td><td>pos</td></tr>\n",
              "\t<tr><th scope=row>9</th><td>2</td><td>197</td><td>70</td><td>45</td><td>543</td><td>30.5</td><td>0.158</td><td>53</td><td>pos</td></tr>\n",
              "\t<tr><th scope=row>14</th><td>1</td><td>189</td><td>60</td><td>23</td><td>846</td><td>30.1</td><td>0.398</td><td>59</td><td>pos</td></tr>\n",
              "\t<tr><th scope=row>15</th><td>5</td><td>166</td><td>72</td><td>19</td><td>175</td><td>25.8</td><td>0.587</td><td>51</td><td>pos</td></tr>\n",
              "</tbody>\n",
              "</table>\n"
            ],
            "text/markdown": "\nA data.frame: 6 × 9\n\n| <!--/--> | pregnant &lt;dbl&gt; | glucose &lt;dbl&gt; | pressure &lt;dbl&gt; | triceps &lt;dbl&gt; | insulin &lt;dbl&gt; | mass &lt;dbl&gt; | pedigree &lt;dbl&gt; | age &lt;dbl&gt; | diabetes &lt;fct&gt; |\n|---|---|---|---|---|---|---|---|---|---|\n| 4 | 1 |  89 | 66 | 23 |  94 | 28.1 | 0.167 | 21 | neg |\n| 5 | 0 | 137 | 40 | 35 | 168 | 43.1 | 2.288 | 33 | pos |\n| 7 | 3 |  78 | 50 | 32 |  88 | 31.0 | 0.248 | 26 | pos |\n| 9 | 2 | 197 | 70 | 45 | 543 | 30.5 | 0.158 | 53 | pos |\n| 14 | 1 | 189 | 60 | 23 | 846 | 30.1 | 0.398 | 59 | pos |\n| 15 | 5 | 166 | 72 | 19 | 175 | 25.8 | 0.587 | 51 | pos |\n\n",
            "text/latex": "A data.frame: 6 × 9\n\\begin{tabular}{r|lllllllll}\n  & pregnant & glucose & pressure & triceps & insulin & mass & pedigree & age & diabetes\\\\\n  & <dbl> & <dbl> & <dbl> & <dbl> & <dbl> & <dbl> & <dbl> & <dbl> & <fct>\\\\\n\\hline\n\t4 & 1 &  89 & 66 & 23 &  94 & 28.1 & 0.167 & 21 & neg\\\\\n\t5 & 0 & 137 & 40 & 35 & 168 & 43.1 & 2.288 & 33 & pos\\\\\n\t7 & 3 &  78 & 50 & 32 &  88 & 31.0 & 0.248 & 26 & pos\\\\\n\t9 & 2 & 197 & 70 & 45 & 543 & 30.5 & 0.158 & 53 & pos\\\\\n\t14 & 1 & 189 & 60 & 23 & 846 & 30.1 & 0.398 & 59 & pos\\\\\n\t15 & 5 & 166 & 72 & 19 & 175 & 25.8 & 0.587 & 51 & pos\\\\\n\\end{tabular}\n",
            "text/plain": [
              "   pregnant glucose pressure triceps insulin mass pedigree age diabetes\n",
              "4  1         89     66       23       94     28.1 0.167    21  neg     \n",
              "5  0        137     40       35      168     43.1 2.288    33  pos     \n",
              "7  3         78     50       32       88     31.0 0.248    26  pos     \n",
              "9  2        197     70       45      543     30.5 0.158    53  pos     \n",
              "14 1        189     60       23      846     30.1 0.398    59  pos     \n",
              "15 5        166     72       19      175     25.8 0.587    51  pos     "
            ]
          },
          "metadata": {}
        }
      ],
      "source": [
        "# INSERT CODE HERE\n",
        "library(tidyverse)\n",
        "library(boot)\n",
        "#install.packages(\"mlbench\")\n",
        "library(mlbench)\n",
        "\n",
        "data(\"PimaIndiansDiabetes2\")\n",
        "data_clean <- drop_na(PimaIndiansDiabetes2)\n",
        "\n",
        "dim(data_clean)\n",
        "head(data_clean)"
      ]
    },
    {
      "cell_type": "markdown",
      "metadata": {
        "id": "_BRVQiWSmtDh"
      },
      "source": [
        "(Note that in medical contexts, `pedigree` refers to a system of measuring family history of a condition. So here, higher numbers mean greater family history of diabetes. You can read more about this dataset [here](https://rdrr.io/cran/mlbench/man/PimaIndiansDiabetes.html).)\n",
        "\n",
        "# 2. Leave-one-out Cross Validation (4 pts)\n",
        "\n",
        "In the tutorial, we learned how to fit leave-one-out cross validation using the `cv.glm` function from the `boot` package. But we can also do this manually using `predict()` like we have in the past.\n",
        "\n",
        "Let's predict `diabetes`, a dichotomous outcome, using all the other variables in our modified dataset.\n",
        "\n",
        "First, fit a logistic regression model using all of the observations except the very first one. Then use your fitted model to predict whether your holdout case is positive or negative for diabetes. Remember that logistic regression coefficients are in **log-odds**, meaning that if an output is positive, the probability of the outcome is greater than 50%; if the output is negative, the probability of the outcome is less than 50%.\n",
        "\n",
        "Compare your result to the actual response in row one above. Did your model correctly classify this observation?"
      ]
    },
    {
      "cell_type": "code",
      "execution_count": 24,
      "metadata": {
        "id": "RDyry5h_mtDi",
        "vscode": {
          "languageId": "r"
        },
        "colab": {
          "base_uri": "https://localhost:8080/",
          "height": 70
        },
        "outputId": "5c7d98e0-6edc-4b6b-f145-e03bf89dcee3"
      },
      "outputs": [
        {
          "output_type": "display_data",
          "data": {
            "text/html": [
              "<strong>4:</strong> 'negative'"
            ],
            "text/markdown": "**4:** 'negative'",
            "text/latex": "\\textbf{4:} 'negative'",
            "text/plain": [
              "         4 \n",
              "\"negative\" "
            ]
          },
          "metadata": {}
        },
        {
          "output_type": "display_data",
          "data": {
            "text/html": [
              "'negative'"
            ],
            "text/markdown": "'negative'",
            "text/latex": "'negative'",
            "text/plain": [
              "[1] \"negative\""
            ]
          },
          "metadata": {}
        },
        {
          "output_type": "stream",
          "name": "stdout",
          "text": [
            "[1] \"Yes, the model correctly classified this observation\"\n"
          ]
        }
      ],
      "source": [
        "# INSERT CODE HERE\n",
        "log_model <- glm(diabetes ~ ., data = data_clean[-1,], family = binomial)\n",
        "# predict the probabilty of diabetes response given all variables\n",
        "log_model_pred <- predict(log_model, newdata = data_clean[1,], type = \"response\")\n",
        "# classify the prediction\n",
        "log_model_pred_status <- ifelse(log_model_pred > 0.5, \"positive\", \"negative\")\n",
        "actual_status <- ifelse(data_clean$diabetes[1] == \"pos\", \"positive\", \"negative\")\n",
        "log_model_pred_status\n",
        "actual_status\n",
        "print(\"Yes, the model correctly classified this observation\")"
      ]
    },
    {
      "cell_type": "markdown",
      "metadata": {
        "id": "sIPpDdd0mtDi"
      },
      "source": [
        "So we just calculated a single iteration of LOOCV. We used 531 rows of our data to fit a model to predict the outcome of the last row.\n",
        "\n",
        "Below, use a `for` loop to iterate through the rest of your dataset doing the same thing. You will need to:\n",
        "* Create a data frame `results` with two columns: one named `actual` which holds the true classification for each observation, and one named `predicted`, which should be filled with `NA`s. This is where you'll store the output of your loop.\n",
        "* Create a loop that runs through each row of your data, pulls that observation out, trains your model on the remaining data, and then tests the fitted model on your test observation.\n",
        "* Store your model *predictions* (\"pos\" or \"neg\" -- not the log-odds) in the `predicted` column of your `results` dataframe\n",
        "\n",
        "After you run your loop, print the first few lines of `results`."
      ]
    },
    {
      "cell_type": "code",
      "execution_count": 25,
      "metadata": {
        "id": "5Z1ijm_PmtDj",
        "vscode": {
          "languageId": "r"
        },
        "colab": {
          "base_uri": "https://localhost:8080/",
          "height": 286
        },
        "outputId": "5fe86b1e-fcf5-495c-ce99-6954c9d18763"
      },
      "outputs": [
        {
          "output_type": "display_data",
          "data": {
            "text/html": [
              "<table class=\"dataframe\">\n",
              "<caption>A data.frame: 6 × 2</caption>\n",
              "<thead>\n",
              "\t<tr><th></th><th scope=col>actual</th><th scope=col>predicted</th></tr>\n",
              "\t<tr><th></th><th scope=col>&lt;fct&gt;</th><th scope=col>&lt;chr&gt;</th></tr>\n",
              "</thead>\n",
              "<tbody>\n",
              "\t<tr><th scope=row>1</th><td>neg</td><td>neg</td></tr>\n",
              "\t<tr><th scope=row>2</th><td>pos</td><td>pos</td></tr>\n",
              "\t<tr><th scope=row>3</th><td>pos</td><td>neg</td></tr>\n",
              "\t<tr><th scope=row>4</th><td>pos</td><td>pos</td></tr>\n",
              "\t<tr><th scope=row>5</th><td>pos</td><td>pos</td></tr>\n",
              "\t<tr><th scope=row>6</th><td>pos</td><td>pos</td></tr>\n",
              "</tbody>\n",
              "</table>\n"
            ],
            "text/markdown": "\nA data.frame: 6 × 2\n\n| <!--/--> | actual &lt;fct&gt; | predicted &lt;chr&gt; |\n|---|---|---|\n| 1 | neg | neg |\n| 2 | pos | pos |\n| 3 | pos | neg |\n| 4 | pos | pos |\n| 5 | pos | pos |\n| 6 | pos | pos |\n\n",
            "text/latex": "A data.frame: 6 × 2\n\\begin{tabular}{r|ll}\n  & actual & predicted\\\\\n  & <fct> & <chr>\\\\\n\\hline\n\t1 & neg & neg\\\\\n\t2 & pos & pos\\\\\n\t3 & pos & neg\\\\\n\t4 & pos & pos\\\\\n\t5 & pos & pos\\\\\n\t6 & pos & pos\\\\\n\\end{tabular}\n",
            "text/plain": [
              "  actual predicted\n",
              "1 neg    neg      \n",
              "2 pos    pos      \n",
              "3 pos    neg      \n",
              "4 pos    pos      \n",
              "5 pos    pos      \n",
              "6 pos    pos      "
            ]
          },
          "metadata": {}
        }
      ],
      "source": [
        "# Initialize `results` data frame\n",
        "results <- data.frame(actual = data_clean$diabetes, predicted = rep(NA, nrow(data_clean)))\n",
        "\n",
        "# INSERT CODE HERE\n",
        "\n",
        "#for loop\n",
        "for (i in 1:nrow(data_clean)){ #don't forget to change this to your data set name\n",
        "    # separate individual observation `i` from the rest of your data\n",
        "    # INSERT CODE HERE\n",
        "    test_data <- data_clean[i, ]\n",
        "    train_data <- data_clean[-i, ]\n",
        "\n",
        "    # train your model\n",
        "    # INSERT CODE HERE\n",
        "    model <- glm(diabetes ~ ., data = train_data, family = \"binomial\")\n",
        "\n",
        "    # test model on hold out observation\n",
        "    # INSERT CODE HERE\n",
        "    pred <- predict(model, newdata = test_data, type = \"response\")\n",
        "\n",
        "    # classify model prediction as \"pos\" or \"neg\" and add to `results`\n",
        "    # INSERT CODE HERE\n",
        "    pred_status <- ifelse(pred > 0.5, \"pos\", \"neg\")\n",
        "    results$predicted[i] <- pred_status\n",
        "\n",
        "}\n",
        "\n",
        "head(results)"
      ]
    },
    {
      "cell_type": "markdown",
      "metadata": {
        "id": "42Jng_EEmtDk"
      },
      "source": [
        "Now, calculate the overall error of your model. What proportion of cases were incorrectly classified?"
      ]
    },
    {
      "cell_type": "code",
      "execution_count": 26,
      "metadata": {
        "id": "SYhKS5HimtDk",
        "vscode": {
          "languageId": "r"
        },
        "colab": {
          "base_uri": "https://localhost:8080/"
        },
        "outputId": "a9daca18-5355-4b21-dafe-03a863d91293"
      },
      "outputs": [
        {
          "output_type": "stream",
          "name": "stdout",
          "text": [
            "[1] 0.2219388\n"
          ]
        }
      ],
      "source": [
        "# INSERT CODE HERE\n",
        "error_rate <- sum(results$actual != results$predicted) / nrow(results)\n",
        "print(error_rate)\n"
      ]
    },
    {
      "cell_type": "markdown",
      "metadata": {
        "id": "W1TwL8BimtDl"
      },
      "source": [
        "# 3. Compare to `cv.glm` (3 pts)\n",
        "\n",
        "Now, let's compare this result to the `cv.glm` function. Using the tutorial as a guide, use `cv.glm` to run LOOCV on the data, using the same model (i.e., still using all of the variables to predict diabetes diagnosis).\n",
        "\n",
        "Note that, because this is a `classification` problem and not a regression problem like in the tutorial, we need to adjust the `cost` argument of `cv.glm`. We can read more about this in the docs:"
      ]
    },
    {
      "cell_type": "code",
      "execution_count": 27,
      "metadata": {
        "id": "wIUAW1AtmtDl",
        "vscode": {
          "languageId": "r"
        }
      },
      "outputs": [],
      "source": [
        "?cv.glm"
      ]
    },
    {
      "cell_type": "markdown",
      "metadata": {
        "id": "SWhbyxtymtDl"
      },
      "source": [
        "Here, we see `cost` is defined as:\n",
        "> \"A function of two vector arguments specifying the cost function for the cross-validation. The first argument to cost should correspond to the **observed responses** and the second argument should correspond to the **predicted or fitted responses** from the generalized linear model.\"\n",
        "\n",
        "In the example code (scroll to bottom of the docs), we see that the appropriate cost function for a binary classification is\n",
        "\n",
        "``\n",
        "cost <- function(r, pi = 0) mean(abs(r-pi) > 0.5)\n",
        "``\n",
        "\n",
        "Where `r` is the vector of observed responses (technically \"pos\" and \"neg\", but R treats these as 1 and 0 under the hood), and `pi` is the vector of *probabilities* (not log-odds) fit by the model. Thus, this boils down to our error: what proportion of observations were incorrectly classified. You will need to include this code below."
      ]
    },
    {
      "cell_type": "code",
      "execution_count": 28,
      "metadata": {
        "id": "bJiCmfqomtDl",
        "vscode": {
          "languageId": "r"
        },
        "colab": {
          "base_uri": "https://localhost:8080/",
          "height": 34
        },
        "outputId": "ce49a04f-34e3-4ed8-f681-ffc830cf2a4d"
      },
      "outputs": [
        {
          "output_type": "display_data",
          "data": {
            "text/html": [
              "<style>\n",
              ".list-inline {list-style: none; margin:0; padding: 0}\n",
              ".list-inline>li {display: inline-block}\n",
              ".list-inline>li:not(:last-child)::after {content: \"\\00b7\"; padding: 0 .5ex}\n",
              "</style>\n",
              "<ol class=list-inline><li>0.221938775510204</li><li>0.221756559766765</li></ol>\n"
            ],
            "text/markdown": "1. 0.221938775510204\n2. 0.221756559766765\n\n\n",
            "text/latex": "\\begin{enumerate*}\n\\item 0.221938775510204\n\\item 0.221756559766765\n\\end{enumerate*}\n",
            "text/plain": [
              "[1] 0.2219388 0.2217566"
            ]
          },
          "metadata": {}
        }
      ],
      "source": [
        "# INSERT CODE HERE\n",
        "cost <- function(r, pi = 0) mean(abs(r-pi) > 0.5)\n",
        "model <- glm(diabetes ~ ., data = data_clean, family = \"binomial\")\n",
        "\n",
        "cv_result <- cv.glm(data_clean, model, cost, K = nrow(data_clean))\n",
        "cv_result$delta\n"
      ]
    },
    {
      "cell_type": "markdown",
      "metadata": {
        "id": "IcEuGX3FmtDm"
      },
      "source": [
        "How do your results compare to your manual LOOCV above?\n",
        "\n",
        "> * *Write response here*\n",
        ">\n",
        "> * about the same results.\n"
      ]
    },
    {
      "cell_type": "markdown",
      "metadata": {
        "id": "6Y2tL4NpmtDm"
      },
      "source": [
        "# 4. Adjusting K and Reflection (2 pts)\n",
        "\n",
        "Recall that LOOCV has some drawbacks. In particular, it has quite high *variance* which can lead to poor performance on new test data. We can reduce this variance by increasing K.\n",
        "\n",
        "Below, re-run your cross validation using `cv.glm` with `k` set to 3, 5, 10, and 15."
      ]
    },
    {
      "cell_type": "code",
      "execution_count": 29,
      "metadata": {
        "id": "vZYq_NQlmtDm",
        "scrolled": true,
        "vscode": {
          "languageId": "r"
        },
        "colab": {
          "base_uri": "https://localhost:8080/",
          "height": 86
        },
        "outputId": "1e9661ae-5bed-43f4-9902-e9bb39024846"
      },
      "outputs": [
        {
          "output_type": "display_data",
          "data": {
            "text/html": [
              "<style>\n",
              ".list-inline {list-style: none; margin:0; padding: 0}\n",
              ".list-inline>li {display: inline-block}\n",
              ".list-inline>li:not(:last-child)::after {content: \"\\00b7\"; padding: 0 .5ex}\n",
              "</style>\n",
              "<ol class=list-inline><li>0.216836734693878</li><li>0.225361828404831</li></ol>\n"
            ],
            "text/markdown": "1. 0.216836734693878\n2. 0.225361828404831\n\n\n",
            "text/latex": "\\begin{enumerate*}\n\\item 0.216836734693878\n\\item 0.225361828404831\n\\end{enumerate*}\n",
            "text/plain": [
              "[1] 0.2168367 0.2253618"
            ]
          },
          "metadata": {}
        },
        {
          "output_type": "display_data",
          "data": {
            "text/html": [
              "<style>\n",
              ".list-inline {list-style: none; margin:0; padding: 0}\n",
              ".list-inline>li {display: inline-block}\n",
              ".list-inline>li:not(:last-child)::after {content: \"\\00b7\"; padding: 0 .5ex}\n",
              "</style>\n",
              "<ol class=list-inline><li>0.216836734693878</li><li>0.222960485214494</li></ol>\n"
            ],
            "text/markdown": "1. 0.216836734693878\n2. 0.222960485214494\n\n\n",
            "text/latex": "\\begin{enumerate*}\n\\item 0.216836734693878\n\\item 0.222960485214494\n\\end{enumerate*}\n",
            "text/plain": [
              "[1] 0.2168367 0.2229605"
            ]
          },
          "metadata": {}
        },
        {
          "output_type": "display_data",
          "data": {
            "text/html": [
              "<style>\n",
              ".list-inline {list-style: none; margin:0; padding: 0}\n",
              ".list-inline>li {display: inline-block}\n",
              ".list-inline>li:not(:last-child)::after {content: \"\\00b7\"; padding: 0 .5ex}\n",
              "</style>\n",
              "<ol class=list-inline><li>0.216836734693877</li><li>0.221639421074552</li></ol>\n"
            ],
            "text/markdown": "1. 0.216836734693877\n2. 0.221639421074552\n\n\n",
            "text/latex": "\\begin{enumerate*}\n\\item 0.216836734693877\n\\item 0.221639421074552\n\\end{enumerate*}\n",
            "text/plain": [
              "[1] 0.2168367 0.2216394"
            ]
          },
          "metadata": {}
        },
        {
          "output_type": "display_data",
          "data": {
            "text/html": [
              "<style>\n",
              ".list-inline {list-style: none; margin:0; padding: 0}\n",
              ".list-inline>li {display: inline-block}\n",
              ".list-inline>li:not(:last-child)::after {content: \"\\00b7\"; padding: 0 .5ex}\n",
              "</style>\n",
              "<ol class=list-inline><li>0.219387755102041</li><li>0.224821688879633</li></ol>\n"
            ],
            "text/markdown": "1. 0.219387755102041\n2. 0.224821688879633\n\n\n",
            "text/latex": "\\begin{enumerate*}\n\\item 0.219387755102041\n\\item 0.224821688879633\n\\end{enumerate*}\n",
            "text/plain": [
              "[1] 0.2193878 0.2248217"
            ]
          },
          "metadata": {}
        }
      ],
      "source": [
        "set.seed(1)\n",
        "#INSERT CODE BELOW\n",
        "cost <- function(r, pi = 0) mean(abs(r-pi) > 0.5)\n",
        "model <- glm(diabetes ~ ., data = data_clean, family = \"binomial\")\n",
        "\n",
        "# K = 3\n",
        "cv_result_k3 <- cv.glm(data_clean, model, cost, K = 3)\n",
        "cv_result_k3$delta\n",
        "\n",
        "# K = 5\n",
        "cv_result_k5 <- cv.glm(data_clean, model, cost, K = 5)\n",
        "cv_result_k5$delta\n",
        "\n",
        "# K = 10\n",
        "cv_result_k10 <- cv.glm(data_clean, model, cost, K = 10)\n",
        "cv_result_k10$delta\n",
        "\n",
        "# K = 15\n",
        "cv_result_k15 <- cv.glm(data_clean, model, cost, K = 15)\n",
        "cv_result_k15$delta"
      ]
    },
    {
      "cell_type": "markdown",
      "metadata": {
        "id": "fI5Y1OqOmtDn"
      },
      "source": [
        "#### Reflection\n",
        "\n",
        "How do your errors compare to your LOOCV error above? How do they change as k increases?\n",
        "> * *Write response here*\n",
        ">\n",
        "> *  Generally, the LOOCV error rate and k-fold CV error rates are highly similar. Looking at the raw cross-validation estimates (first column), the error rate is equal for k = 3, k = 5, and k = 10, and these k-fold CV error rates are lower in error rate by 0.51%. Additionally, the LOOCV error rate is closer to the 10- and 15-fold CV error rates. This, however, is expected because LOOCV is an extreme case of k-fold CV where k is the number of observations. The small difference between the k-fold CV error rates and LOOCV error rates suggest that k-fold CV with smaller k value is a reasonable cross-validation method.\n",
        "\n",
        "If you change the random seed above, you'll get slightly different errors. If you were to do the same with your LOOCV above , would you expect to get different results each time? Why or why not?\n",
        "> * *Write response here*\n",
        "> * the random seed in k-fold CVs affect how the data is partitioned, and therefore, different random seeds can affect the results slightly. However, for LOOCV, changing the random seed won't affect the results at all because LOOCV doesn't have any random partitioning of the data - every single iteration in the cross-validation simply leaves out one obversation at a time for n times (n being nunber of observations)."
      ]
    },
    {
      "cell_type": "markdown",
      "metadata": {
        "id": "TRus-lz6lSIJ"
      },
      "source": [
        "\n",
        "**DUE:** 5pm March 25, 2024\n",
        "\n",
        "**IMPORTANT** Did you collaborate with anyone on this assignment? If so, list their names here.\n",
        "> *Someone's Name*\n",
        ">\n",
        ">\n"
      ]
    }
  ],
  "metadata": {
    "colab": {
      "provenance": [],
      "include_colab_link": true
    },
    "kernelspec": {
      "display_name": "R",
      "language": "R",
      "name": "ir"
    },
    "language_info": {
      "codemirror_mode": "r",
      "file_extension": ".r",
      "mimetype": "text/x-r-source",
      "name": "R",
      "pygments_lexer": "r",
      "version": "4.2.0"
    }
  },
  "nbformat": 4,
  "nbformat_minor": 0
}